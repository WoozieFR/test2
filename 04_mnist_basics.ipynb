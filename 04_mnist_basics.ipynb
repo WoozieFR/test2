{
  "cells": [
    {
      "cell_type": "markdown",
      "metadata": {
        "id": "view-in-github",
        "colab_type": "text"
      },
      "source": [
        "<a href=\"https://colab.research.google.com/github/WoozieFR/test2/blob/main/04_mnist_basics.ipynb\" target=\"_parent\"><img src=\"https://colab.research.google.com/assets/colab-badge.svg\" alt=\"Open In Colab\"/></a>"
      ]
    },
    {
      "cell_type": "code",
      "execution_count": 1,
      "metadata": {
        "id": "VPt8sPAG2i1v"
      },
      "outputs": [],
      "source": [
        "#hide\n",
        "! [ -e /content ] && pip install -Uqq fastbook\n",
        "import fastbook\n",
        "fastbook.setup_book()"
      ]
    },
    {
      "cell_type": "code",
      "execution_count": 2,
      "metadata": {
        "id": "pF0YPl7S2i15"
      },
      "outputs": [],
      "source": [
        "#hide\n",
        "from fastai.vision.all import *\n",
        "from fastbook import *\n",
        "\n",
        "matplotlib.rc('image', cmap='Greys')"
      ]
    },
    {
      "cell_type": "markdown",
      "metadata": {
        "id": "7Iyt79jp2i17"
      },
      "source": [
        "# Under the Hood: Training a Digit Classifier"
      ]
    },
    {
      "cell_type": "markdown",
      "metadata": {
        "id": "b7sOZRlQ2i2A"
      },
      "source": [
        "## Pixels: The Foundations of Computer Vision"
      ]
    },
    {
      "cell_type": "markdown",
      "metadata": {
        "id": "E2e2v_TX2i2B"
      },
      "source": [
        "## Sidebar: Tenacity and Deep Learning"
      ]
    },
    {
      "cell_type": "markdown",
      "metadata": {
        "id": "TWdhW_UX2i2C"
      },
      "source": [
        "## End sidebar"
      ]
    },
    {
      "cell_type": "code",
      "execution_count": 3,
      "metadata": {
        "id": "Uc-oeM2Q2i2D"
      },
      "outputs": [],
      "source": [
        "path = untar_data(URLs.MNIST)"
      ]
    },
    {
      "cell_type": "code",
      "execution_count": 4,
      "metadata": {
        "id": "5jm6OOIk2i2F"
      },
      "outputs": [],
      "source": [
        "#hide\n",
        "Path.BASE_PATH = path"
      ]
    },
    {
      "cell_type": "code",
      "execution_count": 5,
      "metadata": {
        "id": "-MQpsZfr2i2H"
      },
      "outputs": [],
      "source": [
        "#help(path)\n",
        "#path.as_posix()"
      ]
    },
    {
      "cell_type": "code",
      "execution_count": 6,
      "metadata": {
        "colab": {
          "base_uri": "https://localhost:8080/"
        },
        "id": "NVZx9Rbo2i2J",
        "outputId": "29c60152-401e-44cd-b416-170fdea67aac"
      },
      "outputs": [
        {
          "output_type": "execute_result",
          "data": {
            "text/plain": [
              "(#2) [Path('training'),Path('testing')]"
            ]
          },
          "metadata": {},
          "execution_count": 6
        }
      ],
      "source": [
        "path.ls()"
      ]
    },
    {
      "cell_type": "code",
      "execution_count": 7,
      "metadata": {
        "colab": {
          "base_uri": "https://localhost:8080/"
        },
        "id": "J3yKiOwK2i2N",
        "outputId": "d25e27c3-b8a5-4fb1-bdb3-9799ae35ee40"
      },
      "outputs": [
        {
          "output_type": "execute_result",
          "data": {
            "text/plain": [
              "(#10) [Path('training/5'),Path('training/3'),Path('training/4'),Path('training/0'),Path('training/8'),Path('training/6'),Path('training/9'),Path('training/1'),Path('training/2'),Path('training/7')]"
            ]
          },
          "metadata": {},
          "execution_count": 7
        }
      ],
      "source": [
        "(path/'training').ls()"
      ]
    },
    {
      "cell_type": "code",
      "execution_count": 8,
      "metadata": {
        "colab": {
          "base_uri": "https://localhost:8080/"
        },
        "id": "PXwf-IxR2i2Q",
        "outputId": "04c9bc41-093b-4a6f-e7c9-2b2e5d4f08bd"
      },
      "outputs": [
        {
          "output_type": "execute_result",
          "data": {
            "text/plain": [
              "(#6131) [Path('training/3/10.png'),Path('training/3/10000.png'),Path('training/3/10011.png'),Path('training/3/10031.png'),Path('training/3/10034.png'),Path('training/3/10042.png'),Path('training/3/10052.png'),Path('training/3/1007.png'),Path('training/3/10074.png'),Path('training/3/10091.png')...]"
            ]
          },
          "metadata": {},
          "execution_count": 8
        }
      ],
      "source": [
        "threes = (path/'training'/'3').ls().sorted()\n",
        "sevens = (path/'training'/'7').ls().sorted()\n",
        "threes"
      ]
    },
    {
      "cell_type": "code",
      "execution_count": 8,
      "metadata": {
        "id": "WhlP2SoY2i2S"
      },
      "outputs": [],
      "source": []
    },
    {
      "cell_type": "code",
      "execution_count": 9,
      "metadata": {
        "colab": {
          "base_uri": "https://localhost:8080/"
        },
        "id": "g0WLqx7_2i2T",
        "outputId": "8da8b620-b6cf-48ef-d4ca-a0cf3ccdf66a"
      },
      "outputs": [
        {
          "output_type": "execute_result",
          "data": {
            "text/plain": [
              "(#5949) [Path('training/9/10003.png'),Path('training/9/10004.png'),Path('training/9/10023.png'),Path('training/9/10028.png'),Path('training/9/10038.png'),Path('training/9/10043.png'),Path('training/9/10047.png'),Path('training/9/1005.png'),Path('training/9/10055.png'),Path('training/9/10059.png')...]"
            ]
          },
          "metadata": {},
          "execution_count": 9
        }
      ],
      "source": [
        "images = [num.ls().sorted() for num in (path/'training').ls().sorted()]\n",
        "images[9]\n"
      ]
    },
    {
      "cell_type": "code",
      "execution_count": 10,
      "metadata": {
        "colab": {
          "base_uri": "https://localhost:8080/",
          "height": 45
        },
        "id": "OPdJFu1c2i2U",
        "outputId": "64552e49-cb2e-4c0d-e0b6-85b1549f19db"
      },
      "outputs": [
        {
          "output_type": "execute_result",
          "data": {
            "text/plain": [
              "<PIL.PngImagePlugin.PngImageFile image mode=L size=28x28>"
            ],
            "image/png": "[encoded data removed]"
          },
          "metadata": {},
          "execution_count": 10
        }
      ],
      "source": [
        "im3_path = images[3][2]\n",
        "im3 = Image.open(im3_path)\n",
        "im3"
      ]
    },
    {
      "cell_type": "code",
      "execution_count": 11,
      "metadata": {
        "colab": {
          "base_uri": "https://localhost:8080/"
        },
        "id": "mt_miNYd2i2V",
        "outputId": "b1a4f58e-7eb8-4608-ce39-65594396a207"
      },
      "outputs": [
        {
          "output_type": "execute_result",
          "data": {
            "text/plain": [
              "array([[  0,   0,   0,   0,   0,   0],\n",
              "       [  0,   0,   0,   0,   0,   0],\n",
              "       [  0,   0,   0,   0,  13,  36],\n",
              "       [  0,   0,   0,   0,  89, 253],\n",
              "       [  0,   0,   0,   0,  89, 253],\n",
              "       [  0,   0,   0,   0,  17, 151]], dtype=uint8)"
            ]
          },
          "metadata": {},
          "execution_count": 11
        }
      ],
      "source": [
        "array(im3)[4:10,4:10]"
      ]
    },
    {
      "cell_type": "code",
      "execution_count": 12,
      "metadata": {
        "colab": {
          "base_uri": "https://localhost:8080/"
        },
        "id": "u8RQC-pW2i2W",
        "outputId": "a3eb43ee-a877-4d5c-d020-ff3c17afcc37"
      },
      "outputs": [
        {
          "output_type": "execute_result",
          "data": {
            "text/plain": [
              "tensor([[  0,   0,   0,   0,   0,   0],\n",
              "        [  0,   0,   0,   0,   0,   0],\n",
              "        [  0,   0,   0,   0,  13,  36],\n",
              "        [  0,   0,   0,   0,  89, 253],\n",
              "        [  0,   0,   0,   0,  89, 253],\n",
              "        [  0,   0,   0,   0,  17, 151]], dtype=torch.uint8)"
            ]
          },
          "metadata": {},
          "execution_count": 12
        }
      ],
      "source": [
        "tensor(im3)[4:10,4:10]"
      ]
    },
    {
      "cell_type": "code",
      "execution_count": 13,
      "metadata": {
        "colab": {
          "base_uri": "https://localhost:8080/",
          "height": 414
        },
        "id": "friDQ1Wf2i2X",
        "outputId": "8f450ad2-fb7e-4375-cc91-234ba03e5542"
      },
      "outputs": [
        {
          "output_type": "execute_result",
          "data": {
            "text/plain": [
              "<pandas.io.formats.style.Styler at 0x7997502d20b0>"
            ],
            "text/html": [
              "<style type=\"text/css\">\n",
              "#T_1e787_row0_col0, #T_1e787_row0_col1, #T_1e787_row0_col2, #T_1e787_row0_col3, #T_1e787_row0_col4, #T_1e787_row0_col5, #T_1e787_row0_col6, #T_1e787_row0_col7, #T_1e787_row0_col8, #T_1e787_row0_col9, #T_1e787_row0_col10, #T_1e787_row0_col11, #T_1e787_row0_col12, #T_1e787_row0_col13, #T_1e787_row0_col14, #T_1e787_row0_col15, #T_1e787_row0_col16, #T_1e787_row0_col17, #T_1e787_row1_col0, #T_1e787_row1_col1, #T_1e787_row1_col2, #T_1e787_row1_col3, #T_1e787_row1_col4, #T_1e787_row1_col5, #T_1e787_row1_col6, #T_1e787_row1_col16, #T_1e787_row1_col17, #T_1e787_row2_col0, #T_1e787_row2_col1, #T_1e787_row2_col2, #T_1e787_row2_col3, #T_1e787_row2_col17, #T_1e787_row3_col0, #T_1e787_row3_col1, #T_1e787_row3_col2, #T_1e787_row3_col3, #T_1e787_row3_col17, #T_1e787_row4_col0, #T_1e787_row4_col1, #T_1e787_row4_col2, #T_1e787_row4_col3, #T_1e787_row4_col9, #T_1e787_row4_col10, #T_1e787_row4_col11, #T_1e787_row4_col12, #T_1e787_row4_col17, #T_1e787_row5_col0, #T_1e787_row5_col1, #T_1e787_row5_col2, #T_1e787_row5_col3, #T_1e787_row5_col7, #T_1e787_row5_col8, #T_1e787_row5_col9, #T_1e787_row5_col10, #T_1e787_row5_col11, #T_1e787_row5_col17, #T_1e787_row6_col0, #T_1e787_row6_col1, #T_1e787_row6_col2, #T_1e787_row6_col3, #T_1e787_row6_col4, #T_1e787_row6_col5, #T_1e787_row6_col6, #T_1e787_row6_col7, #T_1e787_row6_col8, #T_1e787_row6_col9, #T_1e787_row6_col17, #T_1e787_row7_col0, #T_1e787_row7_col1, #T_1e787_row7_col2, #T_1e787_row7_col3, #T_1e787_row7_col4, #T_1e787_row7_col5, #T_1e787_row7_col6, #T_1e787_row7_col16, #T_1e787_row7_col17, #T_1e787_row8_col0, #T_1e787_row8_col1, #T_1e787_row8_col2, #T_1e787_row8_col3, #T_1e787_row8_col4, #T_1e787_row8_col5, #T_1e787_row8_col15, #T_1e787_row8_col16, #T_1e787_row8_col17, #T_1e787_row9_col0, #T_1e787_row9_col1, #T_1e787_row9_col2, #T_1e787_row9_col3, #T_1e787_row9_col4, #T_1e787_row9_col5, #T_1e787_row9_col15, #T_1e787_row9_col16, #T_1e787_row9_col17, #T_1e787_row10_col0, #T_1e787_row10_col1, #T_1e787_row10_col2, #T_1e787_row10_col3, #T_1e787_row10_col4, #T_1e787_row10_col5, #T_1e787_row10_col6, #T_1e787_row10_col11, #T_1e787_row10_col12, #T_1e787_row10_col16, #T_1e787_row10_col17 {\n",
              "  font-size: 6pt;\n",
              "  background-color: #ffffff;\n",
              "  color: #000000;\n",
              "}\n",
              "#T_1e787_row1_col7, #T_1e787_row10_col10 {\n",
              "  font-size: 6pt;\n",
              "  background-color: #f7f7f7;\n",
              "  color: #000000;\n",
              "}\n",
              "#T_1e787_row1_col8, #T_1e787_row9_col12 {\n",
              "  font-size: 6pt;\n",
              "  background-color: #bebebe;\n",
              "  color: #000000;\n",
              "}\n",
              "#T_1e787_row1_col9 {\n",
              "  font-size: 6pt;\n",
              "  background-color: #6d6d6d;\n",
              "  color: #f1f1f1;\n",
              "}\n",
              "#T_1e787_row1_col10, #T_1e787_row1_col11, #T_1e787_row1_col12, #T_1e787_row1_col13, #T_1e787_row1_col14, #T_1e787_row2_col7, #T_1e787_row2_col8, #T_1e787_row2_col9, #T_1e787_row3_col4, #T_1e787_row3_col5, #T_1e787_row3_col6, #T_1e787_row3_col7, #T_1e787_row3_col15, #T_1e787_row4_col4, #T_1e787_row4_col5, #T_1e787_row4_col15, #T_1e787_row4_col16, #T_1e787_row5_col15, #T_1e787_row8_col8, #T_1e787_row8_col9, #T_1e787_row9_col8, #T_1e787_row9_col9 {\n",
              "  font-size: 6pt;\n",
              "  background-color: #000000;\n",
              "  color: #f1f1f1;\n",
              "}\n",
              "#T_1e787_row1_col15, #T_1e787_row2_col6, #T_1e787_row5_col5 {\n",
              "  font-size: 6pt;\n",
              "  background-color: #7b7b7b;\n",
              "  color: #f1f1f1;\n",
              "}\n",
              "#T_1e787_row2_col4, #T_1e787_row4_col13 {\n",
              "  font-size: 6pt;\n",
              "  background-color: #ececec;\n",
              "  color: #000000;\n",
              "}\n",
              "#T_1e787_row2_col5 {\n",
              "  font-size: 6pt;\n",
              "  background-color: #ededed;\n",
              "  color: #000000;\n",
              "}\n",
              "#T_1e787_row2_col10, #T_1e787_row2_col12, #T_1e787_row4_col6, #T_1e787_row5_col14, #T_1e787_row6_col13, #T_1e787_row6_col14, #T_1e787_row7_col12, #T_1e787_row7_col13, #T_1e787_row8_col10, #T_1e787_row8_col12, #T_1e787_row8_col13 {\n",
              "  font-size: 6pt;\n",
              "  background-color: #010101;\n",
              "  color: #f1f1f1;\n",
              "}\n",
              "#T_1e787_row2_col11, #T_1e787_row7_col11, #T_1e787_row8_col11 {\n",
              "  font-size: 6pt;\n",
              "  background-color: #020202;\n",
              "  color: #f1f1f1;\n",
              "}\n",
              "#T_1e787_row2_col13 {\n",
              "  font-size: 6pt;\n",
              "  background-color: #2b2b2b;\n",
              "  color: #f1f1f1;\n",
              "}\n",
              "#T_1e787_row2_col14 {\n",
              "  font-size: 6pt;\n",
              "  background-color: #111111;\n",
              "  color: #f1f1f1;\n",
              "}\n",
              "#T_1e787_row2_col15 {\n",
              "  font-size: 6pt;\n",
              "  background-color: #303030;\n",
              "  color: #f1f1f1;\n",
              "}\n",
              "#T_1e787_row2_col16 {\n",
              "  font-size: 6pt;\n",
              "  background-color: #f9f9f9;\n",
              "  color: #000000;\n",
              "}\n",
              "#T_1e787_row3_col8 {\n",
              "  font-size: 6pt;\n",
              "  background-color: #090909;\n",
              "  color: #f1f1f1;\n",
              "}\n",
              "#T_1e787_row3_col9 {\n",
              "  font-size: 6pt;\n",
              "  background-color: #646464;\n",
              "  color: #f1f1f1;\n",
              "}\n",
              "#T_1e787_row3_col10, #T_1e787_row3_col11, #T_1e787_row3_col12 {\n",
              "  font-size: 6pt;\n",
              "  background-color: #c9c9c9;\n",
              "  color: #000000;\n",
              "}\n",
              "#T_1e787_row3_col13 {\n",
              "  font-size: 6pt;\n",
              "  background-color: #fefefe;\n",
              "  color: #000000;\n",
              "}\n",
              "#T_1e787_row3_col14 {\n",
              "  font-size: 6pt;\n",
              "  background-color: #7e7e7e;\n",
              "  color: #f1f1f1;\n",
              "}\n",
              "#T_1e787_row3_col16 {\n",
              "  font-size: 6pt;\n",
              "  background-color: #404040;\n",
              "  color: #f1f1f1;\n",
              "}\n",
              "#T_1e787_row4_col7 {\n",
              "  font-size: 6pt;\n",
              "  background-color: #656565;\n",
              "  color: #f1f1f1;\n",
              "}\n",
              "#T_1e787_row4_col8 {\n",
              "  font-size: 6pt;\n",
              "  background-color: #e0e0e0;\n",
              "  color: #000000;\n",
              "}\n",
              "#T_1e787_row4_col14 {\n",
              "  font-size: 6pt;\n",
              "  background-color: #606060;\n",
              "  color: #f1f1f1;\n",
              "}\n",
              "#T_1e787_row5_col4 {\n",
              "  font-size: 6pt;\n",
              "  background-color: #e4e4e4;\n",
              "  color: #000000;\n",
              "}\n",
              "#T_1e787_row5_col6 {\n",
              "  font-size: 6pt;\n",
              "  background-color: #e2e2e2;\n",
              "  color: #000000;\n",
              "}\n",
              "#T_1e787_row5_col12 {\n",
              "  font-size: 6pt;\n",
              "  background-color: #eaeaea;\n",
              "  color: #000000;\n",
              "}\n",
              "#T_1e787_row5_col13 {\n",
              "  font-size: 6pt;\n",
              "  background-color: #1d1d1d;\n",
              "  color: #f1f1f1;\n",
              "}\n",
              "#T_1e787_row5_col16 {\n",
              "  font-size: 6pt;\n",
              "  background-color: #464646;\n",
              "  color: #f1f1f1;\n",
              "}\n",
              "#T_1e787_row6_col10 {\n",
              "  font-size: 6pt;\n",
              "  background-color: #c8c8c8;\n",
              "  color: #000000;\n",
              "}\n",
              "#T_1e787_row6_col11, #T_1e787_row8_col7 {\n",
              "  font-size: 6pt;\n",
              "  background-color: #3d3d3d;\n",
              "  color: #f1f1f1;\n",
              "}\n",
              "#T_1e787_row6_col12 {\n",
              "  font-size: 6pt;\n",
              "  background-color: #141414;\n",
              "  color: #f1f1f1;\n",
              "}\n",
              "#T_1e787_row6_col15 {\n",
              "  font-size: 6pt;\n",
              "  background-color: #333333;\n",
              "  color: #f1f1f1;\n",
              "}\n",
              "#T_1e787_row6_col16 {\n",
              "  font-size: 6pt;\n",
              "  background-color: #fafafa;\n",
              "  color: #000000;\n",
              "}\n",
              "#T_1e787_row7_col7 {\n",
              "  font-size: 6pt;\n",
              "  background-color: #d4d4d4;\n",
              "  color: #000000;\n",
              "}\n",
              "#T_1e787_row7_col8 {\n",
              "  font-size: 6pt;\n",
              "  background-color: #848484;\n",
              "  color: #f1f1f1;\n",
              "}\n",
              "#T_1e787_row7_col9, #T_1e787_row10_col14 {\n",
              "  font-size: 6pt;\n",
              "  background-color: #0c0c0c;\n",
              "  color: #f1f1f1;\n",
              "}\n",
              "#T_1e787_row7_col10 {\n",
              "  font-size: 6pt;\n",
              "  background-color: #030303;\n",
              "  color: #f1f1f1;\n",
              "}\n",
              "#T_1e787_row7_col14 {\n",
              "  font-size: 6pt;\n",
              "  background-color: #5c5c5c;\n",
              "  color: #f1f1f1;\n",
              "}\n",
              "#T_1e787_row7_col15 {\n",
              "  font-size: 6pt;\n",
              "  background-color: #e3e3e3;\n",
              "  color: #000000;\n",
              "}\n",
              "#T_1e787_row8_col6, #T_1e787_row9_col6 {\n",
              "  font-size: 6pt;\n",
              "  background-color: #fdfdfd;\n",
              "  color: #000000;\n",
              "}\n",
              "#T_1e787_row8_col14 {\n",
              "  font-size: 6pt;\n",
              "  background-color: #b0b0b0;\n",
              "  color: #000000;\n",
              "}\n",
              "#T_1e787_row9_col7 {\n",
              "  font-size: 6pt;\n",
              "  background-color: #151515;\n",
              "  color: #f1f1f1;\n",
              "}\n",
              "#T_1e787_row9_col10 {\n",
              "  font-size: 6pt;\n",
              "  background-color: #272727;\n",
              "  color: #f1f1f1;\n",
              "}\n",
              "#T_1e787_row9_col11 {\n",
              "  font-size: 6pt;\n",
              "  background-color: #6b6b6b;\n",
              "  color: #f1f1f1;\n",
              "}\n",
              "#T_1e787_row9_col13 {\n",
              "  font-size: 6pt;\n",
              "  background-color: #050505;\n",
              "  color: #f1f1f1;\n",
              "}\n",
              "#T_1e787_row9_col14 {\n",
              "  font-size: 6pt;\n",
              "  background-color: #999999;\n",
              "  color: #f1f1f1;\n",
              "}\n",
              "#T_1e787_row10_col7 {\n",
              "  font-size: 6pt;\n",
              "  background-color: #aaaaaa;\n",
              "  color: #f1f1f1;\n",
              "}\n",
              "#T_1e787_row10_col8 {\n",
              "  font-size: 6pt;\n",
              "  background-color: #616161;\n",
              "  color: #f1f1f1;\n",
              "}\n",
              "#T_1e787_row10_col9 {\n",
              "  font-size: 6pt;\n",
              "  background-color: #cecece;\n",
              "  color: #000000;\n",
              "}\n",
              "#T_1e787_row10_col13 {\n",
              "  font-size: 6pt;\n",
              "  background-color: #060606;\n",
              "  color: #f1f1f1;\n",
              "}\n",
              "#T_1e787_row10_col15 {\n",
              "  font-size: 6pt;\n",
              "  background-color: #dadada;\n",
              "  color: #000000;\n",
              "}\n",
              "</style>\n",
              "<table id=\"T_1e787\" class=\"dataframe\">\n",
              "  <thead>\n",
              "    <tr>\n",
              "      <th class=\"blank level0\" >&nbsp;</th>\n",
              "      <th id=\"T_1e787_level0_col0\" class=\"col_heading level0 col0\" >0</th>\n",
              "      <th id=\"T_1e787_level0_col1\" class=\"col_heading level0 col1\" >1</th>\n",
              "      <th id=\"T_1e787_level0_col2\" class=\"col_heading level0 col2\" >2</th>\n",
              "      <th id=\"T_1e787_level0_col3\" class=\"col_heading level0 col3\" >3</th>\n",
              "      <th id=\"T_1e787_level0_col4\" class=\"col_heading level0 col4\" >4</th>\n",
              "      <th id=\"T_1e787_level0_col5\" class=\"col_heading level0 col5\" >5</th>\n",
              "      <th id=\"T_1e787_level0_col6\" class=\"col_heading level0 col6\" >6</th>\n",
              "      <th id=\"T_1e787_level0_col7\" class=\"col_heading level0 col7\" >7</th>\n",
              "      <th id=\"T_1e787_level0_col8\" class=\"col_heading level0 col8\" >8</th>\n",
              "      <th id=\"T_1e787_level0_col9\" class=\"col_heading level0 col9\" >9</th>\n",
              "      <th id=\"T_1e787_level0_col10\" class=\"col_heading level0 col10\" >10</th>\n",
              "      <th id=\"T_1e787_level0_col11\" class=\"col_heading level0 col11\" >11</th>\n",
              "      <th id=\"T_1e787_level0_col12\" class=\"col_heading level0 col12\" >12</th>\n",
              "      <th id=\"T_1e787_level0_col13\" class=\"col_heading level0 col13\" >13</th>\n",
              "      <th id=\"T_1e787_level0_col14\" class=\"col_heading level0 col14\" >14</th>\n",
              "      <th id=\"T_1e787_level0_col15\" class=\"col_heading level0 col15\" >15</th>\n",
              "      <th id=\"T_1e787_level0_col16\" class=\"col_heading level0 col16\" >16</th>\n",
              "      <th id=\"T_1e787_level0_col17\" class=\"col_heading level0 col17\" >17</th>\n",
              "    </tr>\n",
              "  </thead>\n",
              "  <tbody>\n",
              "    <tr>\n",
              "      <th id=\"T_1e787_level0_row0\" class=\"row_heading level0 row0\" >0</th>\n",
              "      <td id=\"T_1e787_row0_col0\" class=\"data row0 col0\" >0</td>\n",
              "      <td id=\"T_1e787_row0_col1\" class=\"data row0 col1\" >0</td>\n",
              "      <td id=\"T_1e787_row0_col2\" class=\"data row0 col2\" >0</td>\n",
              "      <td id=\"T_1e787_row0_col3\" class=\"data row0 col3\" >0</td>\n",
              "      <td id=\"T_1e787_row0_col4\" class=\"data row0 col4\" >0</td>\n",
              "      <td id=\"T_1e787_row0_col5\" class=\"data row0 col5\" >0</td>\n",
              "      <td id=\"T_1e787_row0_col6\" class=\"data row0 col6\" >0</td>\n",
              "      <td id=\"T_1e787_row0_col7\" class=\"data row0 col7\" >0</td>\n",
              "      <td id=\"T_1e787_row0_col8\" class=\"data row0 col8\" >0</td>\n",
              "      <td id=\"T_1e787_row0_col9\" class=\"data row0 col9\" >0</td>\n",
              "      <td id=\"T_1e787_row0_col10\" class=\"data row0 col10\" >0</td>\n",
              "      <td id=\"T_1e787_row0_col11\" class=\"data row0 col11\" >0</td>\n",
              "      <td id=\"T_1e787_row0_col12\" class=\"data row0 col12\" >0</td>\n",
              "      <td id=\"T_1e787_row0_col13\" class=\"data row0 col13\" >0</td>\n",
              "      <td id=\"T_1e787_row0_col14\" class=\"data row0 col14\" >0</td>\n",
              "      <td id=\"T_1e787_row0_col15\" class=\"data row0 col15\" >0</td>\n",
              "      <td id=\"T_1e787_row0_col16\" class=\"data row0 col16\" >0</td>\n",
              "      <td id=\"T_1e787_row0_col17\" class=\"data row0 col17\" >0</td>\n",
              "    </tr>\n",
              "    <tr>\n",
              "      <th id=\"T_1e787_level0_row1\" class=\"row_heading level0 row1\" >1</th>\n",
              "      <td id=\"T_1e787_row1_col0\" class=\"data row1 col0\" >0</td>\n",
              "      <td id=\"T_1e787_row1_col1\" class=\"data row1 col1\" >0</td>\n",
              "      <td id=\"T_1e787_row1_col2\" class=\"data row1 col2\" >0</td>\n",
              "      <td id=\"T_1e787_row1_col3\" class=\"data row1 col3\" >0</td>\n",
              "      <td id=\"T_1e787_row1_col4\" class=\"data row1 col4\" >0</td>\n",
              "      <td id=\"T_1e787_row1_col5\" class=\"data row1 col5\" >0</td>\n",
              "      <td id=\"T_1e787_row1_col6\" class=\"data row1 col6\" >1</td>\n",
              "      <td id=\"T_1e787_row1_col7\" class=\"data row1 col7\" >18</td>\n",
              "      <td id=\"T_1e787_row1_col8\" class=\"data row1 col8\" >93</td>\n",
              "      <td id=\"T_1e787_row1_col9\" class=\"data row1 col9\" >164</td>\n",
              "      <td id=\"T_1e787_row1_col10\" class=\"data row1 col10\" >254</td>\n",
              "      <td id=\"T_1e787_row1_col11\" class=\"data row1 col11\" >255</td>\n",
              "      <td id=\"T_1e787_row1_col12\" class=\"data row1 col12\" >254</td>\n",
              "      <td id=\"T_1e787_row1_col13\" class=\"data row1 col13\" >254</td>\n",
              "      <td id=\"T_1e787_row1_col14\" class=\"data row1 col14\" >254</td>\n",
              "      <td id=\"T_1e787_row1_col15\" class=\"data row1 col15\" >151</td>\n",
              "      <td id=\"T_1e787_row1_col16\" class=\"data row1 col16\" >0</td>\n",
              "      <td id=\"T_1e787_row1_col17\" class=\"data row1 col17\" >0</td>\n",
              "    </tr>\n",
              "    <tr>\n",
              "      <th id=\"T_1e787_level0_row2\" class=\"row_heading level0 row2\" >2</th>\n",
              "      <td id=\"T_1e787_row2_col0\" class=\"data row2 col0\" >0</td>\n",
              "      <td id=\"T_1e787_row2_col1\" class=\"data row2 col1\" >0</td>\n",
              "      <td id=\"T_1e787_row2_col2\" class=\"data row2 col2\" >0</td>\n",
              "      <td id=\"T_1e787_row2_col3\" class=\"data row2 col3\" >0</td>\n",
              "      <td id=\"T_1e787_row2_col4\" class=\"data row2 col4\" >13</td>\n",
              "      <td id=\"T_1e787_row2_col5\" class=\"data row2 col5\" >36</td>\n",
              "      <td id=\"T_1e787_row2_col6\" class=\"data row2 col6\" >151</td>\n",
              "      <td id=\"T_1e787_row2_col7\" class=\"data row2 col7\" >253</td>\n",
              "      <td id=\"T_1e787_row2_col8\" class=\"data row2 col8\" >253</td>\n",
              "      <td id=\"T_1e787_row2_col9\" class=\"data row2 col9\" >253</td>\n",
              "      <td id=\"T_1e787_row2_col10\" class=\"data row2 col10\" >253</td>\n",
              "      <td id=\"T_1e787_row2_col11\" class=\"data row2 col11\" >253</td>\n",
              "      <td id=\"T_1e787_row2_col12\" class=\"data row2 col12\" >253</td>\n",
              "      <td id=\"T_1e787_row2_col13\" class=\"data row2 col13\" >218</td>\n",
              "      <td id=\"T_1e787_row2_col14\" class=\"data row2 col14\" >239</td>\n",
              "      <td id=\"T_1e787_row2_col15\" class=\"data row2 col15\" >213</td>\n",
              "      <td id=\"T_1e787_row2_col16\" class=\"data row2 col16\" >10</td>\n",
              "      <td id=\"T_1e787_row2_col17\" class=\"data row2 col17\" >0</td>\n",
              "    </tr>\n",
              "    <tr>\n",
              "      <th id=\"T_1e787_level0_row3\" class=\"row_heading level0 row3\" >3</th>\n",
              "      <td id=\"T_1e787_row3_col0\" class=\"data row3 col0\" >0</td>\n",
              "      <td id=\"T_1e787_row3_col1\" class=\"data row3 col1\" >0</td>\n",
              "      <td id=\"T_1e787_row3_col2\" class=\"data row3 col2\" >0</td>\n",
              "      <td id=\"T_1e787_row3_col3\" class=\"data row3 col3\" >0</td>\n",
              "      <td id=\"T_1e787_row3_col4\" class=\"data row3 col4\" >89</td>\n",
              "      <td id=\"T_1e787_row3_col5\" class=\"data row3 col5\" >253</td>\n",
              "      <td id=\"T_1e787_row3_col6\" class=\"data row3 col6\" >253</td>\n",
              "      <td id=\"T_1e787_row3_col7\" class=\"data row3 col7\" >253</td>\n",
              "      <td id=\"T_1e787_row3_col8\" class=\"data row3 col8\" >245</td>\n",
              "      <td id=\"T_1e787_row3_col9\" class=\"data row3 col9\" >172</td>\n",
              "      <td id=\"T_1e787_row3_col10\" class=\"data row3 col10\" >82</td>\n",
              "      <td id=\"T_1e787_row3_col11\" class=\"data row3 col11\" >82</td>\n",
              "      <td id=\"T_1e787_row3_col12\" class=\"data row3 col12\" >82</td>\n",
              "      <td id=\"T_1e787_row3_col13\" class=\"data row3 col13\" >2</td>\n",
              "      <td id=\"T_1e787_row3_col14\" class=\"data row3 col14\" >148</td>\n",
              "      <td id=\"T_1e787_row3_col15\" class=\"data row3 col15\" >253</td>\n",
              "      <td id=\"T_1e787_row3_col16\" class=\"data row3 col16\" >150</td>\n",
              "      <td id=\"T_1e787_row3_col17\" class=\"data row3 col17\" >0</td>\n",
              "    </tr>\n",
              "    <tr>\n",
              "      <th id=\"T_1e787_level0_row4\" class=\"row_heading level0 row4\" >4</th>\n",
              "      <td id=\"T_1e787_row4_col0\" class=\"data row4 col0\" >0</td>\n",
              "      <td id=\"T_1e787_row4_col1\" class=\"data row4 col1\" >0</td>\n",
              "      <td id=\"T_1e787_row4_col2\" class=\"data row4 col2\" >0</td>\n",
              "      <td id=\"T_1e787_row4_col3\" class=\"data row4 col3\" >0</td>\n",
              "      <td id=\"T_1e787_row4_col4\" class=\"data row4 col4\" >89</td>\n",
              "      <td id=\"T_1e787_row4_col5\" class=\"data row4 col5\" >253</td>\n",
              "      <td id=\"T_1e787_row4_col6\" class=\"data row4 col6\" >252</td>\n",
              "      <td id=\"T_1e787_row4_col7\" class=\"data row4 col7\" >171</td>\n",
              "      <td id=\"T_1e787_row4_col8\" class=\"data row4 col8\" >54</td>\n",
              "      <td id=\"T_1e787_row4_col9\" class=\"data row4 col9\" >0</td>\n",
              "      <td id=\"T_1e787_row4_col10\" class=\"data row4 col10\" >0</td>\n",
              "      <td id=\"T_1e787_row4_col11\" class=\"data row4 col11\" >0</td>\n",
              "      <td id=\"T_1e787_row4_col12\" class=\"data row4 col12\" >0</td>\n",
              "      <td id=\"T_1e787_row4_col13\" class=\"data row4 col13\" >37</td>\n",
              "      <td id=\"T_1e787_row4_col14\" class=\"data row4 col14\" >177</td>\n",
              "      <td id=\"T_1e787_row4_col15\" class=\"data row4 col15\" >253</td>\n",
              "      <td id=\"T_1e787_row4_col16\" class=\"data row4 col16\" >188</td>\n",
              "      <td id=\"T_1e787_row4_col17\" class=\"data row4 col17\" >0</td>\n",
              "    </tr>\n",
              "    <tr>\n",
              "      <th id=\"T_1e787_level0_row5\" class=\"row_heading level0 row5\" >5</th>\n",
              "      <td id=\"T_1e787_row5_col0\" class=\"data row5 col0\" >0</td>\n",
              "      <td id=\"T_1e787_row5_col1\" class=\"data row5 col1\" >0</td>\n",
              "      <td id=\"T_1e787_row5_col2\" class=\"data row5 col2\" >0</td>\n",
              "      <td id=\"T_1e787_row5_col3\" class=\"data row5 col3\" >0</td>\n",
              "      <td id=\"T_1e787_row5_col4\" class=\"data row5 col4\" >17</td>\n",
              "      <td id=\"T_1e787_row5_col5\" class=\"data row5 col5\" >151</td>\n",
              "      <td id=\"T_1e787_row5_col6\" class=\"data row5 col6\" >51</td>\n",
              "      <td id=\"T_1e787_row5_col7\" class=\"data row5 col7\" >0</td>\n",
              "      <td id=\"T_1e787_row5_col8\" class=\"data row5 col8\" >0</td>\n",
              "      <td id=\"T_1e787_row5_col9\" class=\"data row5 col9\" >0</td>\n",
              "      <td id=\"T_1e787_row5_col10\" class=\"data row5 col10\" >0</td>\n",
              "      <td id=\"T_1e787_row5_col11\" class=\"data row5 col11\" >0</td>\n",
              "      <td id=\"T_1e787_row5_col12\" class=\"data row5 col12\" >40</td>\n",
              "      <td id=\"T_1e787_row5_col13\" class=\"data row5 col13\" >229</td>\n",
              "      <td id=\"T_1e787_row5_col14\" class=\"data row5 col14\" >253</td>\n",
              "      <td id=\"T_1e787_row5_col15\" class=\"data row5 col15\" >253</td>\n",
              "      <td id=\"T_1e787_row5_col16\" class=\"data row5 col16\" >147</td>\n",
              "      <td id=\"T_1e787_row5_col17\" class=\"data row5 col17\" >0</td>\n",
              "    </tr>\n",
              "    <tr>\n",
              "      <th id=\"T_1e787_level0_row6\" class=\"row_heading level0 row6\" >6</th>\n",
              "      <td id=\"T_1e787_row6_col0\" class=\"data row6 col0\" >0</td>\n",
              "      <td id=\"T_1e787_row6_col1\" class=\"data row6 col1\" >0</td>\n",
              "      <td id=\"T_1e787_row6_col2\" class=\"data row6 col2\" >0</td>\n",
              "      <td id=\"T_1e787_row6_col3\" class=\"data row6 col3\" >0</td>\n",
              "      <td id=\"T_1e787_row6_col4\" class=\"data row6 col4\" >0</td>\n",
              "      <td id=\"T_1e787_row6_col5\" class=\"data row6 col5\" >0</td>\n",
              "      <td id=\"T_1e787_row6_col6\" class=\"data row6 col6\" >0</td>\n",
              "      <td id=\"T_1e787_row6_col7\" class=\"data row6 col7\" >0</td>\n",
              "      <td id=\"T_1e787_row6_col8\" class=\"data row6 col8\" >0</td>\n",
              "      <td id=\"T_1e787_row6_col9\" class=\"data row6 col9\" >0</td>\n",
              "      <td id=\"T_1e787_row6_col10\" class=\"data row6 col10\" >83</td>\n",
              "      <td id=\"T_1e787_row6_col11\" class=\"data row6 col11\" >206</td>\n",
              "      <td id=\"T_1e787_row6_col12\" class=\"data row6 col12\" >237</td>\n",
              "      <td id=\"T_1e787_row6_col13\" class=\"data row6 col13\" >253</td>\n",
              "      <td id=\"T_1e787_row6_col14\" class=\"data row6 col14\" >253</td>\n",
              "      <td id=\"T_1e787_row6_col15\" class=\"data row6 col15\" >211</td>\n",
              "      <td id=\"T_1e787_row6_col16\" class=\"data row6 col16\" >8</td>\n",
              "      <td id=\"T_1e787_row6_col17\" class=\"data row6 col17\" >0</td>\n",
              "    </tr>\n",
              "    <tr>\n",
              "      <th id=\"T_1e787_level0_row7\" class=\"row_heading level0 row7\" >7</th>\n",
              "      <td id=\"T_1e787_row7_col0\" class=\"data row7 col0\" >0</td>\n",
              "      <td id=\"T_1e787_row7_col1\" class=\"data row7 col1\" >0</td>\n",
              "      <td id=\"T_1e787_row7_col2\" class=\"data row7 col2\" >0</td>\n",
              "      <td id=\"T_1e787_row7_col3\" class=\"data row7 col3\" >0</td>\n",
              "      <td id=\"T_1e787_row7_col4\" class=\"data row7 col4\" >0</td>\n",
              "      <td id=\"T_1e787_row7_col5\" class=\"data row7 col5\" >0</td>\n",
              "      <td id=\"T_1e787_row7_col6\" class=\"data row7 col6\" >0</td>\n",
              "      <td id=\"T_1e787_row7_col7\" class=\"data row7 col7\" >70</td>\n",
              "      <td id=\"T_1e787_row7_col8\" class=\"data row7 col8\" >143</td>\n",
              "      <td id=\"T_1e787_row7_col9\" class=\"data row7 col9\" >243</td>\n",
              "      <td id=\"T_1e787_row7_col10\" class=\"data row7 col10\" >251</td>\n",
              "      <td id=\"T_1e787_row7_col11\" class=\"data row7 col11\" >253</td>\n",
              "      <td id=\"T_1e787_row7_col12\" class=\"data row7 col12\" >253</td>\n",
              "      <td id=\"T_1e787_row7_col13\" class=\"data row7 col13\" >253</td>\n",
              "      <td id=\"T_1e787_row7_col14\" class=\"data row7 col14\" >181</td>\n",
              "      <td id=\"T_1e787_row7_col15\" class=\"data row7 col15\" >50</td>\n",
              "      <td id=\"T_1e787_row7_col16\" class=\"data row7 col16\" >0</td>\n",
              "      <td id=\"T_1e787_row7_col17\" class=\"data row7 col17\" >0</td>\n",
              "    </tr>\n",
              "    <tr>\n",
              "      <th id=\"T_1e787_level0_row8\" class=\"row_heading level0 row8\" >8</th>\n",
              "      <td id=\"T_1e787_row8_col0\" class=\"data row8 col0\" >0</td>\n",
              "      <td id=\"T_1e787_row8_col1\" class=\"data row8 col1\" >0</td>\n",
              "      <td id=\"T_1e787_row8_col2\" class=\"data row8 col2\" >0</td>\n",
              "      <td id=\"T_1e787_row8_col3\" class=\"data row8 col3\" >0</td>\n",
              "      <td id=\"T_1e787_row8_col4\" class=\"data row8 col4\" >0</td>\n",
              "      <td id=\"T_1e787_row8_col5\" class=\"data row8 col5\" >0</td>\n",
              "      <td id=\"T_1e787_row8_col6\" class=\"data row8 col6\" >4</td>\n",
              "      <td id=\"T_1e787_row8_col7\" class=\"data row8 col7\" >204</td>\n",
              "      <td id=\"T_1e787_row8_col8\" class=\"data row8 col8\" >253</td>\n",
              "      <td id=\"T_1e787_row8_col9\" class=\"data row8 col9\" >253</td>\n",
              "      <td id=\"T_1e787_row8_col10\" class=\"data row8 col10\" >253</td>\n",
              "      <td id=\"T_1e787_row8_col11\" class=\"data row8 col11\" >253</td>\n",
              "      <td id=\"T_1e787_row8_col12\" class=\"data row8 col12\" >253</td>\n",
              "      <td id=\"T_1e787_row8_col13\" class=\"data row8 col13\" >253</td>\n",
              "      <td id=\"T_1e787_row8_col14\" class=\"data row8 col14\" >106</td>\n",
              "      <td id=\"T_1e787_row8_col15\" class=\"data row8 col15\" >0</td>\n",
              "      <td id=\"T_1e787_row8_col16\" class=\"data row8 col16\" >0</td>\n",
              "      <td id=\"T_1e787_row8_col17\" class=\"data row8 col17\" >0</td>\n",
              "    </tr>\n",
              "    <tr>\n",
              "      <th id=\"T_1e787_level0_row9\" class=\"row_heading level0 row9\" >9</th>\n",
              "      <td id=\"T_1e787_row9_col0\" class=\"data row9 col0\" >0</td>\n",
              "      <td id=\"T_1e787_row9_col1\" class=\"data row9 col1\" >0</td>\n",
              "      <td id=\"T_1e787_row9_col2\" class=\"data row9 col2\" >0</td>\n",
              "      <td id=\"T_1e787_row9_col3\" class=\"data row9 col3\" >0</td>\n",
              "      <td id=\"T_1e787_row9_col4\" class=\"data row9 col4\" >0</td>\n",
              "      <td id=\"T_1e787_row9_col5\" class=\"data row9 col5\" >0</td>\n",
              "      <td id=\"T_1e787_row9_col6\" class=\"data row9 col6\" >5</td>\n",
              "      <td id=\"T_1e787_row9_col7\" class=\"data row9 col7\" >235</td>\n",
              "      <td id=\"T_1e787_row9_col8\" class=\"data row9 col8\" >253</td>\n",
              "      <td id=\"T_1e787_row9_col9\" class=\"data row9 col9\" >253</td>\n",
              "      <td id=\"T_1e787_row9_col10\" class=\"data row9 col10\" >221</td>\n",
              "      <td id=\"T_1e787_row9_col11\" class=\"data row9 col11\" >167</td>\n",
              "      <td id=\"T_1e787_row9_col12\" class=\"data row9 col12\" >94</td>\n",
              "      <td id=\"T_1e787_row9_col13\" class=\"data row9 col13\" >250</td>\n",
              "      <td id=\"T_1e787_row9_col14\" class=\"data row9 col14\" >125</td>\n",
              "      <td id=\"T_1e787_row9_col15\" class=\"data row9 col15\" >0</td>\n",
              "      <td id=\"T_1e787_row9_col16\" class=\"data row9 col16\" >0</td>\n",
              "      <td id=\"T_1e787_row9_col17\" class=\"data row9 col17\" >0</td>\n",
              "    </tr>\n",
              "    <tr>\n",
              "      <th id=\"T_1e787_level0_row10\" class=\"row_heading level0 row10\" >10</th>\n",
              "      <td id=\"T_1e787_row10_col0\" class=\"data row10 col0\" >0</td>\n",
              "      <td id=\"T_1e787_row10_col1\" class=\"data row10 col1\" >0</td>\n",
              "      <td id=\"T_1e787_row10_col2\" class=\"data row10 col2\" >0</td>\n",
              "      <td id=\"T_1e787_row10_col3\" class=\"data row10 col3\" >0</td>\n",
              "      <td id=\"T_1e787_row10_col4\" class=\"data row10 col4\" >0</td>\n",
              "      <td id=\"T_1e787_row10_col5\" class=\"data row10 col5\" >0</td>\n",
              "      <td id=\"T_1e787_row10_col6\" class=\"data row10 col6\" >0</td>\n",
              "      <td id=\"T_1e787_row10_col7\" class=\"data row10 col7\" >110</td>\n",
              "      <td id=\"T_1e787_row10_col8\" class=\"data row10 col8\" >175</td>\n",
              "      <td id=\"T_1e787_row10_col9\" class=\"data row10 col9\" >76</td>\n",
              "      <td id=\"T_1e787_row10_col10\" class=\"data row10 col10\" >18</td>\n",
              "      <td id=\"T_1e787_row10_col11\" class=\"data row10 col11\" >0</td>\n",
              "      <td id=\"T_1e787_row10_col12\" class=\"data row10 col12\" >0</td>\n",
              "      <td id=\"T_1e787_row10_col13\" class=\"data row10 col13\" >249</td>\n",
              "      <td id=\"T_1e787_row10_col14\" class=\"data row10 col14\" >244</td>\n",
              "      <td id=\"T_1e787_row10_col15\" class=\"data row10 col15\" >62</td>\n",
              "      <td id=\"T_1e787_row10_col16\" class=\"data row10 col16\" >0</td>\n",
              "      <td id=\"T_1e787_row10_col17\" class=\"data row10 col17\" >0</td>\n",
              "    </tr>\n",
              "  </tbody>\n",
              "</table>\n"
            ]
          },
          "metadata": {},
          "execution_count": 13
        }
      ],
      "source": [
        "im3_t = tensor(im3)\n",
        "df = pd.DataFrame(im3_t[4:15,4:22])\n",
        "df.style.set_properties(**{'font-size':'6pt'}).background_gradient('Greys')"
      ]
    },
    {
      "cell_type": "markdown",
      "metadata": {
        "id": "OtJypxYY2i2Y"
      },
      "source": [
        "## First Try: Pixel Similarity"
      ]
    },
    {
      "cell_type": "code",
      "execution_count": 14,
      "metadata": {
        "id": "FofaNtU82i2Z"
      },
      "outputs": [],
      "source": [
        "#seven_tensors = [tensor(Image.open(o)) for o in sevens]\n",
        "#three_tensors = [tensor(Image.open(o)) for o in threes]\n",
        "#len(three_tensors),len(seven_tensors)"
      ]
    },
    {
      "cell_type": "code",
      "execution_count": 15,
      "metadata": {
        "id": "PnwJP8rs2i2Z"
      },
      "outputs": [],
      "source": [
        "images_tensors = [[tensor(Image.open(o)) for o in num] for num in images]"
      ]
    },
    {
      "cell_type": "code",
      "execution_count": 16,
      "metadata": {
        "colab": {
          "base_uri": "https://localhost:8080/"
        },
        "id": "BZDpvNVF2i2a",
        "outputId": "3847eb7d-4be2-4985-c71d-c667eb4f59c1"
      },
      "outputs": [
        {
          "output_type": "execute_result",
          "data": {
            "text/plain": [
              "28"
            ]
          },
          "metadata": {},
          "execution_count": 16
        }
      ],
      "source": [
        "len(images_tensors[0][1])"
      ]
    },
    {
      "cell_type": "code",
      "execution_count": 17,
      "metadata": {
        "colab": {
          "base_uri": "https://localhost:8080/"
        },
        "id": "cJ0VwnjF2i2b",
        "outputId": "9b290357-e422-45fe-94f6-27c4274e459f"
      },
      "outputs": [
        {
          "output_type": "execute_result",
          "data": {
            "text/plain": [
              "torch.Size([28, 28])"
            ]
          },
          "metadata": {},
          "execution_count": 17
        }
      ],
      "source": [
        "images_tensors[0][1].shape"
      ]
    },
    {
      "cell_type": "code",
      "execution_count": 18,
      "metadata": {
        "colab": {
          "base_uri": "https://localhost:8080/",
          "height": 114
        },
        "id": "rIpTz0Vs2i2c",
        "outputId": "432dbf63-867d-47c0-da63-420a3f37421b"
      },
      "outputs": [
        {
          "output_type": "display_data",
          "data": {
            "text/plain": [
              "<Figure size 100x100 with 1 Axes>"
            ],
            "image/png": "[encoded data removed]"
          },
          "metadata": {}
        }
      ],
      "source": [
        "show_image(images_tensors[3][4]);"
      ]
    },
    {
      "cell_type": "code",
      "execution_count": 19,
      "metadata": {
        "id": "NzB4Er1Z2i2e"
      },
      "outputs": [],
      "source": [
        "#stacked_sevens = torch.stack(seven_tensors).float()/255\n",
        "#stacked_threes = torch.stack(three_tensors).float()/255\n",
        "#stacked_threes.shape"
      ]
    },
    {
      "cell_type": "code",
      "execution_count": 20,
      "metadata": {
        "id": "IIobWEzw2i2f"
      },
      "outputs": [],
      "source": [
        "stacked_images = [torch.stack(num).float()/255 for num in images_tensors]"
      ]
    },
    {
      "cell_type": "code",
      "execution_count": 21,
      "metadata": {
        "colab": {
          "base_uri": "https://localhost:8080/"
        },
        "id": "WApCQMoi2i2f",
        "outputId": "75e7fd6b-0bfe-4e98-d4e4-00dcc97a9d68"
      },
      "outputs": [
        {
          "output_type": "execute_result",
          "data": {
            "text/plain": [
              "10"
            ]
          },
          "metadata": {},
          "execution_count": 21
        }
      ],
      "source": [
        "len(stacked_images)"
      ]
    },
    {
      "cell_type": "code",
      "execution_count": 22,
      "metadata": {
        "id": "ytdlo39O2i2g"
      },
      "outputs": [],
      "source": [
        "#len(stacked_threes.shape)"
      ]
    },
    {
      "cell_type": "code",
      "execution_count": 23,
      "metadata": {
        "colab": {
          "base_uri": "https://localhost:8080/"
        },
        "id": "xBiq179e2i2g",
        "outputId": "d3422e49-ed6d-4cb6-8327-a23b00f76be7"
      },
      "outputs": [
        {
          "output_type": "execute_result",
          "data": {
            "text/plain": [
              "3"
            ]
          },
          "metadata": {},
          "execution_count": 23
        }
      ],
      "source": [
        "len(stacked_images[0].shape)"
      ]
    },
    {
      "cell_type": "code",
      "execution_count": 24,
      "metadata": {
        "colab": {
          "base_uri": "https://localhost:8080/"
        },
        "id": "Xs0WLeEN2i2h",
        "outputId": "e24464c9-902d-45df-d978-62ba183821e4"
      },
      "outputs": [
        {
          "output_type": "execute_result",
          "data": {
            "text/plain": [
              "torch.Size([5923, 28, 28])"
            ]
          },
          "metadata": {},
          "execution_count": 24
        }
      ],
      "source": [
        "stacked_images[0].shape"
      ]
    },
    {
      "cell_type": "code",
      "execution_count": 25,
      "metadata": {
        "id": "RhR00PIb2i2h"
      },
      "outputs": [],
      "source": [
        "#stacked_threes.ndim"
      ]
    },
    {
      "cell_type": "code",
      "execution_count": 26,
      "metadata": {
        "colab": {
          "base_uri": "https://localhost:8080/"
        },
        "id": "EABsBEaE2i2i",
        "outputId": "82910d11-a072-4462-e9f0-3efc5852f2b0"
      },
      "outputs": [
        {
          "output_type": "execute_result",
          "data": {
            "text/plain": [
              "3"
            ]
          },
          "metadata": {},
          "execution_count": 26
        }
      ],
      "source": [
        "stacked_images[0].ndim"
      ]
    },
    {
      "cell_type": "code",
      "execution_count": 27,
      "metadata": {
        "id": "sFJO4glA2i2i"
      },
      "outputs": [],
      "source": [
        "#mean3 = stacked_threes.mean(0)\n",
        "#show_image(mean3);"
      ]
    },
    {
      "cell_type": "code",
      "execution_count": 28,
      "metadata": {
        "colab": {
          "base_uri": "https://localhost:8080/",
          "height": 45
        },
        "id": "c_VBQPgK2i2i",
        "outputId": "cbf56d4d-b6f7-4b38-c92f-94392791f1ae"
      },
      "outputs": [
        {
          "output_type": "display_data",
          "data": {
            "text/plain": [
              "<Figure size 3000x300 with 10 Axes>"
            ],
            "image/png": "[encoded data removed]"
          },
          "metadata": {}
        }
      ],
      "source": [
        "mean_images = [num.mean(0) for num in stacked_images]\n",
        "#for i in range(len(mean_images)):\n",
        "#    show_image(mean_images[i])\n",
        "\n",
        "show_images(mean_images)"
      ]
    },
    {
      "cell_type": "code",
      "execution_count": 29,
      "metadata": {
        "id": "SFejEx7K2i2j"
      },
      "outputs": [],
      "source": [
        "#doc(show_images)"
      ]
    },
    {
      "cell_type": "code",
      "execution_count": 30,
      "metadata": {
        "id": "xLWszSoJ2i2j"
      },
      "outputs": [],
      "source": [
        "#mean7 = stacked_sevens.mean(0)\n",
        "#show_image(mean7);"
      ]
    },
    {
      "cell_type": "code",
      "execution_count": 31,
      "metadata": {
        "id": "uNtWirNu2i2k"
      },
      "outputs": [],
      "source": [
        "#a_3 = stacked_threes[1]\n",
        "#show_image(a_3);"
      ]
    },
    {
      "cell_type": "code",
      "execution_count": 32,
      "metadata": {
        "id": "nmbCAcMI2i2k"
      },
      "outputs": [],
      "source": [
        "a_3 = stacked_images[3][1]\n",
        "a_5 = stacked_images[5][2]"
      ]
    },
    {
      "cell_type": "code",
      "execution_count": 33,
      "metadata": {
        "colab": {
          "base_uri": "https://localhost:8080/",
          "height": 131
        },
        "id": "gAfYBLF22i2l",
        "outputId": "40b5ed2b-8cf2-4959-c7da-281d1546dcd8"
      },
      "outputs": [
        {
          "output_type": "execute_result",
          "data": {
            "text/plain": [
              "<Axes: >"
            ]
          },
          "metadata": {},
          "execution_count": 33
        },
        {
          "output_type": "display_data",
          "data": {
            "text/plain": [
              "<Figure size 100x100 with 1 Axes>"
            ],
            "image/png": "[encoded data removed]"
          },
          "metadata": {}
        }
      ],
      "source": [
        "show_image(a_5)"
      ]
    },
    {
      "cell_type": "code",
      "execution_count": 34,
      "metadata": {
        "id": "tqPjbCD22i3N"
      },
      "outputs": [],
      "source": [
        "#dist_3_abs = (a_3 - mean3).abs().mean()\n",
        "#dist_3_sqr = ((a_3 - mean3)**2).mean().sqrt()\n",
        "#dist_3_abs,dist_3_sqr"
      ]
    },
    {
      "cell_type": "code",
      "execution_count": 35,
      "metadata": {
        "colab": {
          "base_uri": "https://localhost:8080/"
        },
        "id": "J9uVe48Z2i3N",
        "outputId": "ce2fad32-76ee-44f6-e628-c409c5e26e44"
      },
      "outputs": [
        {
          "output_type": "execute_result",
          "data": {
            "text/plain": [
              "(tensor(0.1114), tensor(0.2021))"
            ]
          },
          "metadata": {},
          "execution_count": 35
        }
      ],
      "source": [
        "dist_3_abs = (a_3 - mean_images[3]).abs().mean()\n",
        "dist_3_sqr = ((a_3 - mean_images[3])**2).mean().sqrt()\n",
        "dist_3_abs,dist_3_sqr"
      ]
    },
    {
      "cell_type": "code",
      "execution_count": 36,
      "metadata": {
        "id": "4eKF2oCz2i3O"
      },
      "outputs": [],
      "source": [
        "#dist_7_abs = (a_3 - mean7).abs().mean()\n",
        "#dist_7_sqr = ((a_3 - mean7)**2).mean().sqrt()\n",
        "#dist_7_abs,dist_7_sqr"
      ]
    },
    {
      "cell_type": "code",
      "execution_count": 37,
      "metadata": {
        "colab": {
          "base_uri": "https://localhost:8080/"
        },
        "id": "3nn3Po892i3P",
        "outputId": "bd2ad19f-9916-4b6c-8ab2-28026c158cb5"
      },
      "outputs": [
        {
          "output_type": "execute_result",
          "data": {
            "text/plain": [
              "(tensor(0.1586), tensor(0.3021))"
            ]
          },
          "metadata": {},
          "execution_count": 37
        }
      ],
      "source": [
        "dist_7_abs = (a_3 - mean_images[7]).abs().mean()\n",
        "dist_7_sqr = ((a_3 - mean_images[7])**2).mean().sqrt()\n",
        "dist_7_abs,dist_7_sqr"
      ]
    },
    {
      "cell_type": "code",
      "execution_count": 38,
      "metadata": {
        "id": "IzKCtbQy2i3Q"
      },
      "outputs": [],
      "source": [
        "#F.l1_loss(a_3.float(),mean7), F.mse_loss(a_3,mean7).sqrt()"
      ]
    },
    {
      "cell_type": "code",
      "execution_count": 39,
      "metadata": {
        "colab": {
          "base_uri": "https://localhost:8080/"
        },
        "id": "HRqF_REz2i3R",
        "outputId": "ecb06b03-54f1-40a9-d5a9-d33acec25223"
      },
      "outputs": [
        {
          "output_type": "execute_result",
          "data": {
            "text/plain": [
              "(tensor(0.1586), tensor(0.3021))"
            ]
          },
          "metadata": {},
          "execution_count": 39
        }
      ],
      "source": [
        "F.l1_loss(a_3.float(),mean_images[7]), F.mse_loss(a_3,mean_images[7]).sqrt()"
      ]
    },
    {
      "cell_type": "code",
      "execution_count": 40,
      "metadata": {
        "colab": {
          "base_uri": "https://localhost:8080/"
        },
        "id": "QDvCkogc2i3R",
        "outputId": "0da7c331-6301-4d43-ccb9-e5fea801adbb"
      },
      "outputs": [
        {
          "output_type": "execute_result",
          "data": {
            "text/plain": [
              "(tensor(0.1114), tensor(0.2021))"
            ]
          },
          "metadata": {},
          "execution_count": 40
        }
      ],
      "source": [
        "F.l1_loss(a_3.float(),mean_images[3]), F.mse_loss(a_3,mean_images[3]).sqrt()"
      ]
    },
    {
      "cell_type": "markdown",
      "metadata": {
        "id": "P4SlkPOP2i3S"
      },
      "source": [
        "### NumPy Arrays and PyTorch Tensors"
      ]
    },
    {
      "cell_type": "code",
      "execution_count": 41,
      "metadata": {
        "id": "1SjgKJYr2i3T"
      },
      "outputs": [],
      "source": [
        "data = [[1,2,3],[4,5,6]]\n",
        "arr = array (data)\n",
        "tns = tensor(data)"
      ]
    },
    {
      "cell_type": "code",
      "execution_count": 42,
      "metadata": {
        "colab": {
          "base_uri": "https://localhost:8080/"
        },
        "id": "s9sEbfnx2i3T",
        "outputId": "d3587831-3c95-4be3-fb9d-f610eeaaa2a0"
      },
      "outputs": [
        {
          "output_type": "execute_result",
          "data": {
            "text/plain": [
              "array([[1, 2, 3],\n",
              "       [4, 5, 6]])"
            ]
          },
          "metadata": {},
          "execution_count": 42
        }
      ],
      "source": [
        "arr  # numpy"
      ]
    },
    {
      "cell_type": "code",
      "execution_count": 43,
      "metadata": {
        "colab": {
          "base_uri": "https://localhost:8080/"
        },
        "id": "HOya2GV22i3U",
        "outputId": "170dca25-c54c-4384-c106-b2d431efb9db"
      },
      "outputs": [
        {
          "output_type": "execute_result",
          "data": {
            "text/plain": [
              "tensor([[1, 2, 3],\n",
              "        [4, 5, 6]])"
            ]
          },
          "metadata": {},
          "execution_count": 43
        }
      ],
      "source": [
        "tns  # pytorch"
      ]
    },
    {
      "cell_type": "code",
      "execution_count": 44,
      "metadata": {
        "colab": {
          "base_uri": "https://localhost:8080/"
        },
        "id": "U6DAJaMA2i3V",
        "outputId": "bead8612-34bb-4443-afc5-684386b34c78"
      },
      "outputs": [
        {
          "output_type": "execute_result",
          "data": {
            "text/plain": [
              "tensor([4, 5, 6])"
            ]
          },
          "metadata": {},
          "execution_count": 44
        }
      ],
      "source": [
        "tns[1]"
      ]
    },
    {
      "cell_type": "code",
      "execution_count": 45,
      "metadata": {
        "colab": {
          "base_uri": "https://localhost:8080/"
        },
        "id": "Xf1quSPN2i3V",
        "outputId": "8f6da192-f63a-4603-ccd3-4f8522c4cb15"
      },
      "outputs": [
        {
          "output_type": "execute_result",
          "data": {
            "text/plain": [
              "tensor([2, 5])"
            ]
          },
          "metadata": {},
          "execution_count": 45
        }
      ],
      "source": [
        "tns[:,1]"
      ]
    },
    {
      "cell_type": "code",
      "execution_count": 46,
      "metadata": {
        "colab": {
          "base_uri": "https://localhost:8080/"
        },
        "id": "DBbnMxPm2i3W",
        "outputId": "9b868cf9-95e8-4961-f833-9192af54f647"
      },
      "outputs": [
        {
          "output_type": "execute_result",
          "data": {
            "text/plain": [
              "tensor([5, 6])"
            ]
          },
          "metadata": {},
          "execution_count": 46
        }
      ],
      "source": [
        "tns[1,1:3]"
      ]
    },
    {
      "cell_type": "code",
      "execution_count": 47,
      "metadata": {
        "colab": {
          "base_uri": "https://localhost:8080/"
        },
        "id": "uTAF62vS2i3W",
        "outputId": "acae50d0-a75d-47d2-e0f2-9c0b10d43866"
      },
      "outputs": [
        {
          "output_type": "execute_result",
          "data": {
            "text/plain": [
              "tensor([[2, 3, 4],\n",
              "        [5, 6, 7]])"
            ]
          },
          "metadata": {},
          "execution_count": 47
        }
      ],
      "source": [
        "tns+1"
      ]
    },
    {
      "cell_type": "code",
      "execution_count": 48,
      "metadata": {
        "colab": {
          "base_uri": "https://localhost:8080/",
          "height": 35
        },
        "id": "MQHhJRUH2i3X",
        "outputId": "9c496489-30c0-4dc0-a8de-7661a83f770e"
      },
      "outputs": [
        {
          "output_type": "execute_result",
          "data": {
            "text/plain": [
              "'torch.LongTensor'"
            ],
            "application/vnd.google.colaboratory.intrinsic+json": {
              "type": "string"
            }
          },
          "metadata": {},
          "execution_count": 48
        }
      ],
      "source": [
        "tns.type()"
      ]
    },
    {
      "cell_type": "code",
      "execution_count": 49,
      "metadata": {
        "colab": {
          "base_uri": "https://localhost:8080/"
        },
        "id": "nkmARp7B2i3Y",
        "outputId": "dcd18b02-d75e-4d12-d88d-1d4e6b11138a"
      },
      "outputs": [
        {
          "output_type": "execute_result",
          "data": {
            "text/plain": [
              "tensor([[1.5000, 3.0000, 4.5000],\n",
              "        [6.0000, 7.5000, 9.0000]])"
            ]
          },
          "metadata": {},
          "execution_count": 49
        }
      ],
      "source": [
        "tns*1.5"
      ]
    },
    {
      "cell_type": "markdown",
      "metadata": {
        "id": "WFV_r-xm2i3Z"
      },
      "source": [
        "## Computing Metrics Using Broadcasting"
      ]
    },
    {
      "cell_type": "code",
      "execution_count": 50,
      "metadata": {
        "id": "j-bTtDII2i3a"
      },
      "outputs": [],
      "source": [
        "#valid_3_tens = torch.stack([tensor(Image.open(o))\n",
        "                            #for o in (path/'testing'/'3').ls()])\n",
        "#valid_3_tens = valid_3_tens.float()/255\n",
        "#valid_7_tens = torch.stack([tensor(Image.open(o))\n",
        "                            #for o in (path/'testing'/'7').ls()])\n",
        "#valid_7_tens = valid_7_tens.float()/255\n",
        "#valid_3_tens.shape,valid_7_tens.shape"
      ]
    },
    {
      "cell_type": "code",
      "execution_count": 51,
      "metadata": {
        "colab": {
          "base_uri": "https://localhost:8080/"
        },
        "id": "F3INnqu02i3a",
        "outputId": "db32165a-38a5-471f-dbaf-092e77238960"
      },
      "outputs": [
        {
          "output_type": "execute_result",
          "data": {
            "text/plain": [
              "10"
            ]
          },
          "metadata": {},
          "execution_count": 51
        }
      ],
      "source": [
        "test = [num.ls().sorted() for num in (path/'testing').ls().sorted()]\n",
        "test2 = [[tensor(Image.open(o)) for o in num] for num in test]\n",
        "test3 = [torch.stack(num) for num in test2]\n",
        "len(test3)"
      ]
    },
    {
      "cell_type": "code",
      "execution_count": 52,
      "metadata": {
        "id": "aB8ew1yT2i3i"
      },
      "outputs": [],
      "source": [
        "test3 = [torch.stack([tensor(Image.open(o)) for o in num.ls().sorted()]) for num in (path/'testing').ls().sorted()]"
      ]
    },
    {
      "cell_type": "code",
      "execution_count": 53,
      "metadata": {
        "id": "SYZ90LXa2i3i"
      },
      "outputs": [],
      "source": [
        "stacked_valid_images = [torch.stack([tensor(Image.open(o)) for o in num.ls().sorted()]) for num in (path/'testing').ls().sorted() ]"
      ]
    },
    {
      "cell_type": "code",
      "execution_count": 54,
      "metadata": {
        "colab": {
          "base_uri": "https://localhost:8080/"
        },
        "id": "7p0TbIky2i3j",
        "outputId": "0ec77cf7-ff7a-4abf-c77e-2d47028556b8"
      },
      "outputs": [
        {
          "output_type": "execute_result",
          "data": {
            "text/plain": [
              "10"
            ]
          },
          "metadata": {},
          "execution_count": 54
        }
      ],
      "source": [
        "len(stacked_valid_images)"
      ]
    },
    {
      "cell_type": "code",
      "execution_count": 55,
      "metadata": {
        "colab": {
          "base_uri": "https://localhost:8080/"
        },
        "id": "2uaa0bSb2i3j",
        "outputId": "fedbd70e-1b25-408f-b345-d253ee35712a"
      },
      "outputs": [
        {
          "output_type": "execute_result",
          "data": {
            "text/plain": [
              "tensor(0.1114)"
            ]
          },
          "metadata": {},
          "execution_count": 55
        }
      ],
      "source": [
        "def mnist_distance(a,b): return (a-b).abs().mean((-1,-2))\n",
        "#def mnist_distance(a,b): return (a-b).abs().mean((0,1))\n",
        "mnist_distance(a_3, mean_images[3])"
      ]
    },
    {
      "cell_type": "code",
      "execution_count": 56,
      "metadata": {
        "id": "EwAyXtCF2i3k"
      },
      "outputs": [],
      "source": [
        "#valid_3_dist = mnist_distance(valid_3_tens, mean3)\n",
        "#valid_3_dist, valid_3_dist.shape"
      ]
    },
    {
      "cell_type": "code",
      "execution_count": 57,
      "metadata": {
        "colab": {
          "base_uri": "https://localhost:8080/"
        },
        "id": "-AAdnMok2i3l",
        "outputId": "52ff6f39-eb51-495f-be65-1b19bd4748d1"
      },
      "outputs": [
        {
          "output_type": "execute_result",
          "data": {
            "text/plain": [
              "(tensor([25.6367, 44.4859, 41.5864,  ..., 27.7280, 41.1506, 43.8371]),\n",
              " torch.Size([1010]))"
            ]
          },
          "metadata": {},
          "execution_count": 57
        }
      ],
      "source": [
        "valid_dist = [mnist_distance(stacked_valid_images[i], mean_images[i]) for i in range(len(mean_images))]\n",
        "valid_dist[3], valid_dist[3].shape"
      ]
    },
    {
      "cell_type": "code",
      "execution_count": 58,
      "metadata": {
        "colab": {
          "base_uri": "https://localhost:8080/"
        },
        "id": "Z_1Vrpaa2i3l",
        "outputId": "f4285d72-79fb-4402-a3c3-7e93f109efef"
      },
      "outputs": [
        {
          "output_type": "execute_result",
          "data": {
            "text/plain": [
              "tensor([2, 3, 4])"
            ]
          },
          "metadata": {},
          "execution_count": 58
        }
      ],
      "source": [
        "tensor([1,2,3]) + tensor(1)"
      ]
    },
    {
      "cell_type": "code",
      "execution_count": 59,
      "metadata": {
        "id": "1atBI1FM2i3m"
      },
      "outputs": [],
      "source": [
        "#(valid_3_tens-mean3).shape"
      ]
    },
    {
      "cell_type": "code",
      "execution_count": 60,
      "metadata": {
        "colab": {
          "base_uri": "https://localhost:8080/"
        },
        "id": "3vpkw8gM2i3n",
        "outputId": "a132a809-80a3-4a43-fa5b-b3de1dd44832"
      },
      "outputs": [
        {
          "output_type": "execute_result",
          "data": {
            "text/plain": [
              "torch.Size([1010, 28, 28])"
            ]
          },
          "metadata": {},
          "execution_count": 60
        }
      ],
      "source": [
        "(stacked_valid_images[3]-mean_images[3]).shape"
      ]
    },
    {
      "cell_type": "code",
      "execution_count": 61,
      "metadata": {
        "id": "IRkV_J5Z2i3o"
      },
      "outputs": [],
      "source": [
        "#def is_3(x): return mnist_distance(x,mean3) < mnist_distance(x,mean7)"
      ]
    },
    {
      "cell_type": "code",
      "execution_count": 62,
      "metadata": {
        "id": "fZDRqStq2i3p"
      },
      "outputs": [],
      "source": [
        "stacked_mean_images = torch.stack([num for num in mean_images])"
      ]
    },
    {
      "cell_type": "code",
      "execution_count": 63,
      "metadata": {
        "colab": {
          "base_uri": "https://localhost:8080/"
        },
        "id": "gy5EbIcP2i3q",
        "outputId": "b6331a20-2d4d-4808-bd0c-525af8b79f7a"
      },
      "outputs": [
        {
          "output_type": "execute_result",
          "data": {
            "text/plain": [
              "torch.Size([10, 28, 28])"
            ]
          },
          "metadata": {},
          "execution_count": 63
        }
      ],
      "source": [
        "stacked_mean_images.shape"
      ]
    },
    {
      "cell_type": "code",
      "execution_count": 64,
      "metadata": {
        "colab": {
          "base_uri": "https://localhost:8080/"
        },
        "id": "Rf5RNVES2i3r",
        "outputId": "d1fc0e87-fb64-41ef-e7fb-66c35636cbd4"
      },
      "outputs": [
        {
          "output_type": "execute_result",
          "data": {
            "text/plain": [
              "tensor([0.1879, 0.1353, 0.1734, 0.1114, 0.1704, 0.1443, 0.1723, 0.1586, 0.1550, 0.1601])"
            ]
          },
          "metadata": {},
          "execution_count": 64
        }
      ],
      "source": [
        "mnist_distance(a_3, stacked_mean_images)"
      ]
    },
    {
      "cell_type": "code",
      "execution_count": 65,
      "metadata": {
        "id": "reL8q2LT2i3s"
      },
      "outputs": [],
      "source": [
        "def pred_digit(x): return mnist_distance(x, stacked_mean_images).argmin().item()"
      ]
    },
    {
      "cell_type": "code",
      "execution_count": 66,
      "metadata": {
        "id": "1Q1lGqs82i3t"
      },
      "outputs": [],
      "source": [
        "#is_3(a_3), is_3(a_3).float()"
      ]
    },
    {
      "cell_type": "code",
      "execution_count": 67,
      "metadata": {
        "colab": {
          "base_uri": "https://localhost:8080/"
        },
        "id": "mq3M-9ky2i3u",
        "outputId": "97ef2877-f957-4c2c-e45a-100220e39115"
      },
      "outputs": [
        {
          "output_type": "execute_result",
          "data": {
            "text/plain": [
              "3"
            ]
          },
          "metadata": {},
          "execution_count": 67
        }
      ],
      "source": [
        "pred_digit(a_3)"
      ]
    },
    {
      "cell_type": "code",
      "execution_count": 68,
      "metadata": {
        "colab": {
          "base_uri": "https://localhost:8080/",
          "height": 154
        },
        "id": "3vTQ4TQi2i3v",
        "outputId": "d1541e3d-a05d-4ef2-bcbf-7e694c5b976e"
      },
      "outputs": [
        {
          "output_type": "execute_result",
          "data": {
            "text/plain": [
              "<Axes: title={'center': '3'}>"
            ]
          },
          "metadata": {},
          "execution_count": 68
        },
        {
          "output_type": "display_data",
          "data": {
            "text/plain": [
              "<Figure size 100x100 with 1 Axes>"
            ],
            "image/png": "[encoded data removed]"
          },
          "metadata": {}
        }
      ],
      "source": [
        "a_5 = stacked_images[5][18]\n",
        "\n",
        "show_image(a_5,title=pred_digit(a_5))"
      ]
    },
    {
      "cell_type": "code",
      "execution_count": 69,
      "metadata": {
        "colab": {
          "base_uri": "https://localhost:8080/"
        },
        "id": "wF0bJGQx2i3x",
        "outputId": "8683f00a-e864-413b-de00-05170cee97ca"
      },
      "outputs": [
        {
          "output_type": "execute_result",
          "data": {
            "text/plain": [
              "torch.Size([28, 28])"
            ]
          },
          "metadata": {},
          "execution_count": 69
        }
      ],
      "source": [
        "a_3.shape"
      ]
    },
    {
      "cell_type": "code",
      "execution_count": 70,
      "metadata": {
        "colab": {
          "base_uri": "https://localhost:8080/"
        },
        "id": "lXrO764Q2i3y",
        "outputId": "18442aeb-5ab0-4c32-a6e6-9d9090fda161"
      },
      "outputs": [
        {
          "output_type": "execute_result",
          "data": {
            "text/plain": [
              "torch.Size([10, 28, 28])"
            ]
          },
          "metadata": {},
          "execution_count": 70
        }
      ],
      "source": [
        "stacked_mean_images.shape"
      ]
    },
    {
      "cell_type": "markdown",
      "metadata": {
        "id": "BrXQ1qpx2i3z"
      },
      "source": []
    },
    {
      "cell_type": "code",
      "execution_count": 71,
      "metadata": {
        "id": "7valhvR62i30"
      },
      "outputs": [],
      "source": [
        "#is_3(valid_3_tens)"
      ]
    },
    {
      "cell_type": "code",
      "execution_count": 72,
      "metadata": {
        "colab": {
          "base_uri": "https://localhost:8080/"
        },
        "id": "jnvp69Jl2i31",
        "outputId": "8f2b2719-954f-436e-82c4-3d9649c3d6e5"
      },
      "outputs": [
        {
          "output_type": "execute_result",
          "data": {
            "text/plain": [
              "torch.Size([28, 28])"
            ]
          },
          "metadata": {},
          "execution_count": 72
        }
      ],
      "source": [
        "stacked_mean_images[0].shape"
      ]
    },
    {
      "cell_type": "code",
      "execution_count": 73,
      "metadata": {
        "colab": {
          "base_uri": "https://localhost:8080/"
        },
        "id": "a42lpq8r2i32",
        "outputId": "9b5bf565-6d73-40c9-e28a-9be87126f5c3"
      },
      "outputs": [
        {
          "output_type": "execute_result",
          "data": {
            "text/plain": [
              "torch.Size([980])"
            ]
          },
          "metadata": {},
          "execution_count": 73
        }
      ],
      "source": [
        "#zeroes_res = [pred_digit(images) for images in stacked_valid_images[0]]\n",
        "valid_res = [torch.stack([tensor(pred_digit(images)) for images in num]) for num in stacked_valid_images]\n",
        "len(valid_res[0])\n",
        "valid_res[0].shape"
      ]
    },
    {
      "cell_type": "code",
      "execution_count": 74,
      "metadata": {
        "colab": {
          "base_uri": "https://localhost:8080/"
        },
        "id": "P6_dLzzN2i33",
        "outputId": "065d4e1d-ceca-4996-cad8-76c2b82f9988"
      },
      "outputs": [
        {
          "output_type": "execute_result",
          "data": {
            "text/plain": [
              "torch.Size([980])"
            ]
          },
          "metadata": {},
          "execution_count": 74
        }
      ],
      "source": [
        "zeroes_res = torch.stack([tensor(pred_digit(images)) for images in stacked_valid_images[0]])\n",
        "zeroes_res.shape"
      ]
    },
    {
      "cell_type": "code",
      "execution_count": 75,
      "metadata": {
        "id": "-ag6er392i33"
      },
      "outputs": [],
      "source": [
        "#accuracy_3s =      is_3(valid_3_tens).float() .mean()\n",
        "#accuracy_7s = (1 - is_3(valid_7_tens).float()).mean()\n",
        "\n",
        "#accuracy_3s,accuracy_7s,(accuracy_3s+accuracy_7s)/2"
      ]
    },
    {
      "cell_type": "code",
      "execution_count": 76,
      "metadata": {
        "colab": {
          "base_uri": "https://localhost:8080/"
        },
        "id": "oRALVrlb2i34",
        "outputId": "da39b45c-b523-4111-9fc6-e7fac1a9de0d"
      },
      "outputs": [
        {
          "output_type": "execute_result",
          "data": {
            "text/plain": [
              "tensor(0.9133)"
            ]
          },
          "metadata": {},
          "execution_count": 76
        }
      ],
      "source": [
        "accuracy_zeroes = (valid_res[0] == 0).float().mean()\n",
        "accuracy_zeroes"
      ]
    },
    {
      "cell_type": "code",
      "execution_count": 77,
      "metadata": {
        "colab": {
          "base_uri": "https://localhost:8080/"
        },
        "id": "u76OV4Kv2i34",
        "outputId": "df787f91-114a-4954-9eb2-c883162722d1"
      },
      "outputs": [
        {
          "output_type": "execute_result",
          "data": {
            "text/plain": [
              "tensor(0.7163)"
            ]
          },
          "metadata": {},
          "execution_count": 77
        }
      ],
      "source": [
        "accuracy = [(res == i).float().mean() for i, res in enumerate(valid_res)]\n",
        "tensor(accuracy).mean()"
      ]
    },
    {
      "cell_type": "code",
      "execution_count": 78,
      "metadata": {
        "colab": {
          "base_uri": "https://localhost:8080/"
        },
        "id": "GIvCSb-_2i35",
        "outputId": "edb913cc-99cb-4133-9b12-1e9de74c5be1"
      },
      "outputs": [
        {
          "output_type": "execute_result",
          "data": {
            "text/plain": [
              "[tensor(0.9133),\n",
              " tensor(0.9965),\n",
              " tensor(0.5145),\n",
              " tensor(0.7406),\n",
              " tensor(0.6538),\n",
              " tensor(0.2276),\n",
              " tensor(0.8486),\n",
              " tensor(0.7821),\n",
              " tensor(0.6530),\n",
              " tensor(0.8335)]"
            ]
          },
          "metadata": {},
          "execution_count": 78
        }
      ],
      "source": [
        "accuracy"
      ]
    },
    {
      "cell_type": "code",
      "execution_count": 78,
      "metadata": {
        "id": "sV0Wu61E2i36"
      },
      "outputs": [],
      "source": []
    },
    {
      "cell_type": "markdown",
      "metadata": {
        "id": "POzuMMIO2i36"
      },
      "source": [
        "## Stochastic Gradient Descent (SGD)"
      ]
    },
    {
      "cell_type": "code",
      "execution_count": 79,
      "metadata": {
        "colab": {
          "base_uri": "https://localhost:8080/",
          "height": 145
        },
        "id": "Wjk42Yb22i36",
        "outputId": "a0103252-51b7-4fdc-8c63-38241d6d252c"
      },
      "outputs": [
        {
          "output_type": "execute_result",
          "data": {
            "image/svg+xml": "<?xml version=\"1.0\" encoding=\"UTF-8\" standalone=\"no\"?>\n<!DOCTYPE svg PUBLIC \"-//W3C//DTD SVG 1.1//EN\"\n \"http://www.w3.org/Graphics/SVG/1.1/DTD/svg11.dtd\">\n<!-- Generated by graphviz version 2.43.0 (0)\n -->\n<!-- Title: G Pages: 1 -->\n<svg width=\"591pt\" height=\"78pt\"\n viewBox=\"0.00 0.00 591.49 78.00\" xmlns=\"http://www.w3.org/2000/svg\" xmlns:xlink=\"http://www.w3.org/1999/xlink\">\n<g id=\"graph0\" class=\"graph\" transform=\"scale(1 1) rotate(0) translate(4 74)\">\n<title>G</title>\n<polygon fill=\"white\" stroke=\"transparent\" points=\"-4,4 -4,-74 587.49,-74 587.49,4 -4,4\"/>\n<!-- init -->\n<g id=\"node1\" class=\"node\">\n<title>init</title>\n<ellipse fill=\"none\" stroke=\"black\" cx=\"27\" cy=\"-18\" rx=\"27\" ry=\"18\"/>\n<text text-anchor=\"middle\" x=\"27\" y=\"-14.3\" font-family=\"Times,serif\" font-size=\"14.00\">init</text>\n</g>\n<!-- predict -->\n<g id=\"node2\" class=\"node\">\n<title>predict</title>\n<ellipse fill=\"none\" stroke=\"black\" cx=\"126.1\" cy=\"-18\" rx=\"35.19\" ry=\"18\"/>\n<text text-anchor=\"middle\" x=\"126.1\" y=\"-14.3\" font-family=\"Times,serif\" font-size=\"14.00\">predict</text>\n</g>\n<!-- init&#45;&gt;predict -->\n<g id=\"edge1\" class=\"edge\">\n<title>init&#45;&gt;predict</title>\n<path fill=\"none\" stroke=\"black\" d=\"M54.02,-18C62.26,-18 71.62,-18 80.78,-18\"/>\n<polygon fill=\"black\" stroke=\"black\" points=\"80.96,-21.5 90.96,-18 80.96,-14.5 80.96,-21.5\"/>\n</g>\n<!-- loss -->\n<g id=\"node3\" class=\"node\">\n<title>loss</title>\n<ellipse fill=\"none\" stroke=\"black\" cx=\"225.19\" cy=\"-52\" rx=\"27\" ry=\"18\"/>\n<text text-anchor=\"middle\" x=\"225.19\" y=\"-48.3\" font-family=\"Times,serif\" font-size=\"14.00\">loss</text>\n</g>\n<!-- predict&#45;&gt;loss -->\n<g id=\"edge2\" class=\"edge\">\n<title>predict&#45;&gt;loss</title>\n<path fill=\"none\" stroke=\"black\" d=\"M155.44,-27.93C166.61,-31.84 179.52,-36.36 191.11,-40.42\"/>\n<polygon fill=\"black\" stroke=\"black\" points=\"190.29,-43.84 200.88,-43.84 192.6,-37.23 190.29,-43.84\"/>\n</g>\n<!-- gradient -->\n<g id=\"node4\" class=\"node\">\n<title>gradient</title>\n<ellipse fill=\"none\" stroke=\"black\" cx=\"361.84\" cy=\"-52\" rx=\"39.79\" ry=\"18\"/>\n<text text-anchor=\"middle\" x=\"361.84\" y=\"-48.3\" font-family=\"Times,serif\" font-size=\"14.00\">gradient</text>\n</g>\n<!-- loss&#45;&gt;gradient -->\n<g id=\"edge3\" class=\"edge\">\n<title>loss&#45;&gt;gradient</title>\n<path fill=\"none\" stroke=\"black\" d=\"M252.47,-52C269.35,-52 291.8,-52 311.88,-52\"/>\n<polygon fill=\"black\" stroke=\"black\" points=\"312.13,-55.5 322.13,-52 312.13,-48.5 312.13,-55.5\"/>\n</g>\n<!-- step -->\n<g id=\"node5\" class=\"node\">\n<title>step</title>\n<ellipse fill=\"none\" stroke=\"black\" cx=\"465.49\" cy=\"-18\" rx=\"27\" ry=\"18\"/>\n<text text-anchor=\"middle\" x=\"465.49\" y=\"-14.3\" font-family=\"Times,serif\" font-size=\"14.00\">step</text>\n</g>\n<!-- gradient&#45;&gt;step -->\n<g id=\"edge4\" class=\"edge\">\n<title>gradient&#45;&gt;step</title>\n<path fill=\"none\" stroke=\"black\" d=\"M394.17,-41.52C405.92,-37.59 419.32,-33.11 431.25,-29.12\"/>\n<polygon fill=\"black\" stroke=\"black\" points=\"432.48,-32.4 440.85,-25.91 430.26,-25.76 432.48,-32.4\"/>\n</g>\n<!-- step&#45;&gt;predict -->\n<g id=\"edge6\" class=\"edge\">\n<title>step&#45;&gt;predict</title>\n<path fill=\"none\" stroke=\"black\" d=\"M438.29,-18C380.72,-18 242.6,-18 171.32,-18\"/>\n<polygon fill=\"black\" stroke=\"black\" points=\"171.3,-14.5 161.3,-18 171.3,-21.5 171.3,-14.5\"/>\n<text text-anchor=\"middle\" x=\"287.19\" y=\"-21.8\" font-family=\"Times,serif\" font-size=\"14.00\">repeat</text>\n</g>\n<!-- stop -->\n<g id=\"node6\" class=\"node\">\n<title>stop</title>\n<ellipse fill=\"none\" stroke=\"black\" cx=\"556.49\" cy=\"-18\" rx=\"27\" ry=\"18\"/>\n<text text-anchor=\"middle\" x=\"556.49\" y=\"-14.3\" font-family=\"Times,serif\" font-size=\"14.00\">stop</text>\n</g>\n<!-- step&#45;&gt;stop -->\n<g id=\"edge5\" class=\"edge\">\n<title>step&#45;&gt;stop</title>\n<path fill=\"none\" stroke=\"black\" d=\"M492.71,-18C501.04,-18 510.4,-18 519.3,-18\"/>\n<polygon fill=\"black\" stroke=\"black\" points=\"519.45,-21.5 529.45,-18 519.45,-14.5 519.45,-21.5\"/>\n</g>\n</g>\n</svg>\n",
            "text/plain": [
              "<graphviz.sources.Source at 0x79974aab8f10>"
            ]
          },
          "metadata": {},
          "execution_count": 79
        }
      ],
      "source": [
        "gv('''\n",
        "init->predict->loss->gradient->step->stop\n",
        "step->predict[label=repeat]\n",
        "''')"
      ]
    },
    {
      "cell_type": "code",
      "execution_count": 80,
      "metadata": {
        "id": "K4Pad7Ic2i37"
      },
      "outputs": [],
      "source": [
        "def f(x): return x**2"
      ]
    },
    {
      "cell_type": "code",
      "execution_count": 81,
      "metadata": {
        "colab": {
          "base_uri": "https://localhost:8080/",
          "height": 229
        },
        "id": "N1PqUW3C2i38",
        "outputId": "1d5c25e7-0ed5-4736-9554-51da08f1c13d"
      },
      "outputs": [
        {
          "output_type": "display_data",
          "data": {
            "text/plain": [
              "<Figure size 600x400 with 1 Axes>"
            ],
            "image/png": "[encoded data removed]"
          },
          "metadata": {}
        }
      ],
      "source": [
        "plot_function(f, 'x', 'x**2')"
      ]
    },
    {
      "cell_type": "code",
      "execution_count": 82,
      "metadata": {
        "colab": {
          "base_uri": "https://localhost:8080/",
          "height": 229
        },
        "id": "J0OXmL8i2i39",
        "outputId": "e46b2949-833c-43c9-84b0-0964c84e77f3"
      },
      "outputs": [
        {
          "output_type": "display_data",
          "data": {
            "text/plain": [
              "<Figure size 600x400 with 1 Axes>"
            ],
            "image/png": "[encoded data removed]"
          },
          "metadata": {}
        }
      ],
      "source": [
        "plot_function(f, 'x', 'x**2')\n",
        "plt.scatter(-1.5, f(-1.5), color='red');"
      ]
    },
    {
      "cell_type": "markdown",
      "metadata": {
        "id": "-ZTrJL4K2i3-"
      },
      "source": [
        "### Calculating Gradients"
      ]
    },
    {
      "cell_type": "code",
      "execution_count": 83,
      "metadata": {
        "id": "7pZDGu3P2i3_"
      },
      "outputs": [],
      "source": [
        "xt = tensor(3.).requires_grad_()"
      ]
    },
    {
      "cell_type": "code",
      "execution_count": 84,
      "metadata": {
        "colab": {
          "base_uri": "https://localhost:8080/"
        },
        "id": "XUOQiMO92i3_",
        "outputId": "d32233cb-8044-4c61-9b7a-247788d7f247"
      },
      "outputs": [
        {
          "output_type": "execute_result",
          "data": {
            "text/plain": [
              "tensor(9., grad_fn=<PowBackward0>)"
            ]
          },
          "metadata": {},
          "execution_count": 84
        }
      ],
      "source": [
        "yt = f(xt)\n",
        "yt"
      ]
    },
    {
      "cell_type": "code",
      "execution_count": 85,
      "metadata": {
        "id": "RarFlaMT2i4A"
      },
      "outputs": [],
      "source": [
        "yt.backward()"
      ]
    },
    {
      "cell_type": "code",
      "execution_count": 86,
      "metadata": {
        "colab": {
          "base_uri": "https://localhost:8080/"
        },
        "id": "H3o3oGMz2i4A",
        "outputId": "23933ee2-4eac-4091-fc63-18b7fff773c8"
      },
      "outputs": [
        {
          "output_type": "execute_result",
          "data": {
            "text/plain": [
              "tensor(6.)"
            ]
          },
          "metadata": {},
          "execution_count": 86
        }
      ],
      "source": [
        "xt.grad"
      ]
    },
    {
      "cell_type": "code",
      "execution_count": 87,
      "metadata": {
        "colab": {
          "base_uri": "https://localhost:8080/"
        },
        "id": "f7KMnBA62i4B",
        "outputId": "395f0a24-7ee4-4aaf-bc69-d07ea900ef9e"
      },
      "outputs": [
        {
          "output_type": "execute_result",
          "data": {
            "text/plain": [
              "tensor([ 3.,  4., 10.], requires_grad=True)"
            ]
          },
          "metadata": {},
          "execution_count": 87
        }
      ],
      "source": [
        "xt = tensor([3.,4.,10.]).requires_grad_()\n",
        "xt"
      ]
    },
    {
      "cell_type": "code",
      "execution_count": 88,
      "metadata": {
        "colab": {
          "base_uri": "https://localhost:8080/"
        },
        "id": "Qtam9pfD2i4C",
        "outputId": "fcf95f1b-f7c7-48f1-8c8b-6a69c9ec362a"
      },
      "outputs": [
        {
          "output_type": "execute_result",
          "data": {
            "text/plain": [
              "tensor(125., grad_fn=<SumBackward0>)"
            ]
          },
          "metadata": {},
          "execution_count": 88
        }
      ],
      "source": [
        "def f(x): return (x**2).sum()\n",
        "\n",
        "yt = f(xt)\n",
        "yt"
      ]
    },
    {
      "cell_type": "code",
      "execution_count": 89,
      "metadata": {
        "colab": {
          "base_uri": "https://localhost:8080/"
        },
        "id": "XIHkGU3J2i4D",
        "outputId": "8719c3bb-8f18-4eb4-9014-b715df880a81"
      },
      "outputs": [
        {
          "output_type": "execute_result",
          "data": {
            "text/plain": [
              "tensor([ 6.,  8., 20.])"
            ]
          },
          "metadata": {},
          "execution_count": 89
        }
      ],
      "source": [
        "yt.backward()\n",
        "xt.grad"
      ]
    },
    {
      "cell_type": "markdown",
      "metadata": {
        "id": "XHwOQZw-2i4E"
      },
      "source": [
        "### Stepping With a Learning Rate"
      ]
    },
    {
      "cell_type": "markdown",
      "metadata": {
        "id": "dYvUYinW2i4E"
      },
      "source": [
        "### An End-to-End SGD Example"
      ]
    },
    {
      "cell_type": "code",
      "execution_count": 90,
      "metadata": {
        "colab": {
          "base_uri": "https://localhost:8080/"
        },
        "id": "dPNCZPtm2i4F",
        "outputId": "1bcfc526-de7d-46fe-ac4d-b305532d1c3e"
      },
      "outputs": [
        {
          "output_type": "execute_result",
          "data": {
            "text/plain": [
              "tensor([ 0.,  1.,  2.,  3.,  4.,  5.,  6.,  7.,  8.,  9., 10., 11., 12., 13., 14., 15., 16., 17., 18., 19.])"
            ]
          },
          "metadata": {},
          "execution_count": 90
        }
      ],
      "source": [
        "time = torch.arange(0,20).float(); time"
      ]
    },
    {
      "cell_type": "code",
      "execution_count": 91,
      "metadata": {
        "colab": {
          "base_uri": "https://localhost:8080/",
          "height": 249
        },
        "id": "u7klj8W92i4G",
        "outputId": "a6aa9cfe-66c9-49f0-dbd5-1844f7f9f880"
      },
      "outputs": [
        {
          "output_type": "display_data",
          "data": {
            "text/plain": [
              "<Figure size 640x480 with 1 Axes>"
            ],
            "image/png": "[encoded data removed]"
          },
          "metadata": {}
        }
      ],
      "source": [
        "speed = torch.randn(20)*3 + 0.75*(time-9.5)**2 + 1\n",
        "plt.scatter(time,speed);"
      ]
    },
    {
      "cell_type": "code",
      "execution_count": 92,
      "metadata": {
        "id": "fTNL6QBV2i4H"
      },
      "outputs": [],
      "source": [
        "def f(t, params):\n",
        "    a,b,c = params\n",
        "    return a*(t**2) + (b*t) + c"
      ]
    },
    {
      "cell_type": "code",
      "execution_count": 93,
      "metadata": {
        "id": "GVu2_PrL2i4H"
      },
      "outputs": [],
      "source": [
        "def mse(preds, targets): return ((preds-targets)**2).mean()"
      ]
    },
    {
      "cell_type": "markdown",
      "metadata": {
        "id": "0-C-Lo1b2i4I"
      },
      "source": [
        "#### Step 1: Initialize the parameters"
      ]
    },
    {
      "cell_type": "code",
      "execution_count": 94,
      "metadata": {
        "colab": {
          "base_uri": "https://localhost:8080/"
        },
        "id": "cxBvscYV2i4I",
        "outputId": "d7002c7e-6511-457c-c6f4-2b2ccf108ae6"
      },
      "outputs": [
        {
          "output_type": "execute_result",
          "data": {
            "text/plain": [
              "tensor([-0.7658, -0.7506,  1.3525], requires_grad=True)"
            ]
          },
          "metadata": {},
          "execution_count": 94
        }
      ],
      "source": [
        "params = torch.randn(3).requires_grad_()\n",
        "params"
      ]
    },
    {
      "cell_type": "code",
      "execution_count": 95,
      "metadata": {
        "id": "-6fwWFaN2i4J"
      },
      "outputs": [],
      "source": [
        "#hide\n",
        "orig_params = params.clone()"
      ]
    },
    {
      "cell_type": "markdown",
      "metadata": {
        "id": "yWuRk3HS2i4J"
      },
      "source": [
        "#### Step 2: Calculate the predictions"
      ]
    },
    {
      "cell_type": "code",
      "execution_count": 96,
      "metadata": {
        "id": "P9xPLBPw2i4J"
      },
      "outputs": [],
      "source": [
        "preds = f(time, params)"
      ]
    },
    {
      "cell_type": "code",
      "execution_count": 97,
      "metadata": {
        "id": "M1knBFTn2i4K"
      },
      "outputs": [],
      "source": [
        "def show_preds(preds, ax=None):\n",
        "    if ax is None: ax=plt.subplots()[1]\n",
        "    ax.scatter(time, speed)\n",
        "    ax.scatter(time, to_np(preds), color='red')\n",
        "    ax.set_ylim(-300,100)"
      ]
    },
    {
      "cell_type": "code",
      "execution_count": 98,
      "metadata": {
        "colab": {
          "base_uri": "https://localhost:8080/"
        },
        "id": "txV3zL8o2i4K",
        "outputId": "71755349-cc9d-4003-94c1-4da207d33bf6"
      },
      "outputs": [
        {
          "output_type": "stream",
          "name": "stdout",
          "text": [
            "to_np(x)\n",
            "Convert a tensor to a numpy array.\n",
            "\n",
            "To get a prettier result with hyperlinks to source code and documentation, install nbdev: pip install nbdev\n"
          ]
        }
      ],
      "source": [
        "doc(to_np)"
      ]
    },
    {
      "cell_type": "code",
      "execution_count": 99,
      "metadata": {
        "colab": {
          "base_uri": "https://localhost:8080/",
          "height": 243
        },
        "id": "IpkzKe462i4L",
        "outputId": "19a64bf2-a8c3-4c23-bf5a-6a25ea5edbbf"
      },
      "outputs": [
        {
          "output_type": "display_data",
          "data": {
            "text/plain": [
              "<Figure size 640x480 with 1 Axes>"
            ],
            "image/png": "[encoded data removed]"
          },
          "metadata": {}
        }
      ],
      "source": [
        "show_preds(preds)"
      ]
    },
    {
      "cell_type": "markdown",
      "metadata": {
        "id": "7dPmVJ7k2i4L"
      },
      "source": [
        "#### Step 3: Calculate the loss"
      ]
    },
    {
      "cell_type": "code",
      "execution_count": 100,
      "metadata": {
        "colab": {
          "base_uri": "https://localhost:8080/"
        },
        "id": "s94BYWT22i4M",
        "outputId": "134cba4b-5360-4e02-8d4f-b47522bef826"
      },
      "outputs": [
        {
          "output_type": "execute_result",
          "data": {
            "text/plain": [
              "tensor(25823.8086, grad_fn=<MeanBackward0>)"
            ]
          },
          "metadata": {},
          "execution_count": 100
        }
      ],
      "source": [
        "loss = mse(preds, speed)\n",
        "loss"
      ]
    },
    {
      "cell_type": "markdown",
      "metadata": {
        "id": "STAtOaUg2i4M"
      },
      "source": [
        "#### Step 4: Calculate the gradients"
      ]
    },
    {
      "cell_type": "code",
      "execution_count": 101,
      "metadata": {
        "colab": {
          "base_uri": "https://localhost:8080/"
        },
        "id": "KGOQN9VF2i4N",
        "outputId": "a1a1b2c4-41ba-4d70-ba04-8236fd4cfbd9"
      },
      "outputs": [
        {
          "output_type": "execute_result",
          "data": {
            "text/plain": [
              "tensor([-53195.8633,  -3419.7148,   -253.8908])"
            ]
          },
          "metadata": {},
          "execution_count": 101
        }
      ],
      "source": [
        "loss.backward()\n",
        "params.grad"
      ]
    },
    {
      "cell_type": "code",
      "execution_count": 102,
      "metadata": {
        "colab": {
          "base_uri": "https://localhost:8080/"
        },
        "id": "ioU1DF3x2i4N",
        "outputId": "79aab5a2-b873-44c9-9801-3b0fa4166cc9"
      },
      "outputs": [
        {
          "output_type": "execute_result",
          "data": {
            "text/plain": [
              "tensor([-0.5320, -0.0342, -0.0025])"
            ]
          },
          "metadata": {},
          "execution_count": 102
        }
      ],
      "source": [
        "params.grad * 1e-5"
      ]
    },
    {
      "cell_type": "code",
      "execution_count": 103,
      "metadata": {
        "colab": {
          "base_uri": "https://localhost:8080/"
        },
        "id": "YXPD7yDR2i4O",
        "outputId": "e474ff64-9dde-499f-f8b8-543523537380"
      },
      "outputs": [
        {
          "output_type": "execute_result",
          "data": {
            "text/plain": [
              "tensor([-0.7658, -0.7506,  1.3525], requires_grad=True)"
            ]
          },
          "metadata": {},
          "execution_count": 103
        }
      ],
      "source": [
        "params"
      ]
    },
    {
      "cell_type": "markdown",
      "metadata": {
        "id": "Tym25qXA2i4P"
      },
      "source": [
        "#### Step 5: Step the weights."
      ]
    },
    {
      "cell_type": "code",
      "execution_count": 104,
      "metadata": {
        "id": "O97amkNK2i4P"
      },
      "outputs": [],
      "source": [
        "lr = 1e-5\n",
        "params.data -= lr * params.grad.data\n",
        "params.grad = None"
      ]
    },
    {
      "cell_type": "code",
      "execution_count": 105,
      "metadata": {
        "colab": {
          "base_uri": "https://localhost:8080/"
        },
        "id": "S4kedVe82i4Q",
        "outputId": "e364abc7-eda2-465f-b77f-e6473091a594"
      },
      "outputs": [
        {
          "output_type": "execute_result",
          "data": {
            "text/plain": [
              "tensor(5435.5356, grad_fn=<MeanBackward0>)"
            ]
          },
          "metadata": {},
          "execution_count": 105
        }
      ],
      "source": [
        "preds = f(time,params)\n",
        "mse(preds, speed)"
      ]
    },
    {
      "cell_type": "code",
      "execution_count": 106,
      "metadata": {
        "colab": {
          "base_uri": "https://localhost:8080/",
          "height": 243
        },
        "id": "TYk67A4S2i4Q",
        "outputId": "b65a40ab-2599-4c02-b5cb-46f9e332d12b"
      },
      "outputs": [
        {
          "output_type": "display_data",
          "data": {
            "text/plain": [
              "<Figure size 640x480 with 1 Axes>"
            ],
            "image/png": "[encoded data removed]"
          },
          "metadata": {}
        }
      ],
      "source": [
        "show_preds(preds)"
      ]
    },
    {
      "cell_type": "code",
      "execution_count": 107,
      "metadata": {
        "id": "COFXbQlG2i4R"
      },
      "outputs": [],
      "source": [
        "def apply_step(params, prn=True):\n",
        "    preds = f(time, params)\n",
        "    loss = mse(preds, speed)\n",
        "    loss.backward()\n",
        "    params.data -= lr * params.grad.data\n",
        "    params.grad = None\n",
        "    if prn: print(loss.item())\n",
        "    return preds"
      ]
    },
    {
      "cell_type": "markdown",
      "metadata": {
        "id": "oJU7b4Mb2i4S"
      },
      "source": [
        "#### Step 6: Repeat the process"
      ]
    },
    {
      "cell_type": "code",
      "execution_count": 108,
      "metadata": {
        "colab": {
          "base_uri": "https://localhost:8080/"
        },
        "id": "iAYN6NpW2i4T",
        "outputId": "04940e87-919f-42a8-dfdb-ea8892968428"
      },
      "outputs": [
        {
          "output_type": "stream",
          "name": "stdout",
          "text": [
            "5435.53564453125\n",
            "1577.44921875\n",
            "847.3778076171875\n",
            "709.2225341796875\n",
            "683.0758056640625\n",
            "678.1243896484375\n",
            "677.1838989257812\n",
            "677.0023803710938\n",
            "676.9645385742188\n",
            "676.9537353515625\n"
          ]
        }
      ],
      "source": [
        "for i in range(10): apply_step(params)"
      ]
    },
    {
      "cell_type": "code",
      "execution_count": 109,
      "metadata": {
        "id": "4bGoQEOD2i4T"
      },
      "outputs": [],
      "source": [
        "#hide\n",
        "params = orig_params.detach().requires_grad_()"
      ]
    },
    {
      "cell_type": "code",
      "execution_count": 110,
      "metadata": {
        "colab": {
          "base_uri": "https://localhost:8080/",
          "height": 90
        },
        "id": "0iXJkonk2i4U",
        "outputId": "ab21e15f-3d3d-48a7-f19a-0a075be358fd"
      },
      "outputs": [
        {
          "output_type": "display_data",
          "data": {
            "text/plain": [
              "<Figure size 1200x300 with 4 Axes>"
            ],
            "image/png": "[encoded data removed]"
          },
          "metadata": {}
        }
      ],
      "source": [
        "_,axs = plt.subplots(1,4,figsize=(12,3))\n",
        "for ax in axs: show_preds(apply_step(params, False), ax)\n",
        "plt.tight_layout()"
      ]
    },
    {
      "cell_type": "markdown",
      "metadata": {
        "id": "E6n2VZLK2i4V"
      },
      "source": [
        "#### Step 7: stop"
      ]
    },
    {
      "cell_type": "markdown",
      "metadata": {
        "id": "Y9rN6xT_2i4V"
      },
      "source": [
        "### Summarizing Gradient Descent"
      ]
    },
    {
      "cell_type": "code",
      "execution_count": 111,
      "metadata": {
        "colab": {
          "base_uri": "https://localhost:8080/",
          "height": 145
        },
        "id": "iutFwMa02i4W",
        "outputId": "21fd3da3-9502-44e7-8fed-b2831fe40ad8"
      },
      "outputs": [
        {
          "output_type": "execute_result",
          "data": {
            "image/svg+xml": "<?xml version=\"1.0\" encoding=\"UTF-8\" standalone=\"no\"?>\n<!DOCTYPE svg PUBLIC \"-//W3C//DTD SVG 1.1//EN\"\n \"http://www.w3.org/Graphics/SVG/1.1/DTD/svg11.dtd\">\n<!-- Generated by graphviz version 2.43.0 (0)\n -->\n<!-- Title: G Pages: 1 -->\n<svg width=\"591pt\" height=\"78pt\"\n viewBox=\"0.00 0.00 591.49 78.00\" xmlns=\"http://www.w3.org/2000/svg\" xmlns:xlink=\"http://www.w3.org/1999/xlink\">\n<g id=\"graph0\" class=\"graph\" transform=\"scale(1 1) rotate(0) translate(4 74)\">\n<title>G</title>\n<polygon fill=\"white\" stroke=\"transparent\" points=\"-4,4 -4,-74 587.49,-74 587.49,4 -4,4\"/>\n<!-- init -->\n<g id=\"node1\" class=\"node\">\n<title>init</title>\n<ellipse fill=\"none\" stroke=\"black\" cx=\"27\" cy=\"-18\" rx=\"27\" ry=\"18\"/>\n<text text-anchor=\"middle\" x=\"27\" y=\"-14.3\" font-family=\"Times,serif\" font-size=\"14.00\">init</text>\n</g>\n<!-- predict -->\n<g id=\"node2\" class=\"node\">\n<title>predict</title>\n<ellipse fill=\"none\" stroke=\"black\" cx=\"126.1\" cy=\"-18\" rx=\"35.19\" ry=\"18\"/>\n<text text-anchor=\"middle\" x=\"126.1\" y=\"-14.3\" font-family=\"Times,serif\" font-size=\"14.00\">predict</text>\n</g>\n<!-- init&#45;&gt;predict -->\n<g id=\"edge1\" class=\"edge\">\n<title>init&#45;&gt;predict</title>\n<path fill=\"none\" stroke=\"black\" d=\"M54.02,-18C62.26,-18 71.62,-18 80.78,-18\"/>\n<polygon fill=\"black\" stroke=\"black\" points=\"80.96,-21.5 90.96,-18 80.96,-14.5 80.96,-21.5\"/>\n</g>\n<!-- loss -->\n<g id=\"node3\" class=\"node\">\n<title>loss</title>\n<ellipse fill=\"none\" stroke=\"black\" cx=\"225.19\" cy=\"-52\" rx=\"27\" ry=\"18\"/>\n<text text-anchor=\"middle\" x=\"225.19\" y=\"-48.3\" font-family=\"Times,serif\" font-size=\"14.00\">loss</text>\n</g>\n<!-- predict&#45;&gt;loss -->\n<g id=\"edge2\" class=\"edge\">\n<title>predict&#45;&gt;loss</title>\n<path fill=\"none\" stroke=\"black\" d=\"M155.44,-27.93C166.61,-31.84 179.52,-36.36 191.11,-40.42\"/>\n<polygon fill=\"black\" stroke=\"black\" points=\"190.29,-43.84 200.88,-43.84 192.6,-37.23 190.29,-43.84\"/>\n</g>\n<!-- gradient -->\n<g id=\"node4\" class=\"node\">\n<title>gradient</title>\n<ellipse fill=\"none\" stroke=\"black\" cx=\"361.84\" cy=\"-52\" rx=\"39.79\" ry=\"18\"/>\n<text text-anchor=\"middle\" x=\"361.84\" y=\"-48.3\" font-family=\"Times,serif\" font-size=\"14.00\">gradient</text>\n</g>\n<!-- loss&#45;&gt;gradient -->\n<g id=\"edge3\" class=\"edge\">\n<title>loss&#45;&gt;gradient</title>\n<path fill=\"none\" stroke=\"black\" d=\"M252.47,-52C269.35,-52 291.8,-52 311.88,-52\"/>\n<polygon fill=\"black\" stroke=\"black\" points=\"312.13,-55.5 322.13,-52 312.13,-48.5 312.13,-55.5\"/>\n</g>\n<!-- step -->\n<g id=\"node5\" class=\"node\">\n<title>step</title>\n<ellipse fill=\"none\" stroke=\"black\" cx=\"465.49\" cy=\"-18\" rx=\"27\" ry=\"18\"/>\n<text text-anchor=\"middle\" x=\"465.49\" y=\"-14.3\" font-family=\"Times,serif\" font-size=\"14.00\">step</text>\n</g>\n<!-- gradient&#45;&gt;step -->\n<g id=\"edge4\" class=\"edge\">\n<title>gradient&#45;&gt;step</title>\n<path fill=\"none\" stroke=\"black\" d=\"M394.17,-41.52C405.92,-37.59 419.32,-33.11 431.25,-29.12\"/>\n<polygon fill=\"black\" stroke=\"black\" points=\"432.48,-32.4 440.85,-25.91 430.26,-25.76 432.48,-32.4\"/>\n</g>\n<!-- step&#45;&gt;predict -->\n<g id=\"edge6\" class=\"edge\">\n<title>step&#45;&gt;predict</title>\n<path fill=\"none\" stroke=\"black\" d=\"M438.29,-18C380.72,-18 242.6,-18 171.32,-18\"/>\n<polygon fill=\"black\" stroke=\"black\" points=\"171.3,-14.5 161.3,-18 171.3,-21.5 171.3,-14.5\"/>\n<text text-anchor=\"middle\" x=\"287.19\" y=\"-21.8\" font-family=\"Times,serif\" font-size=\"14.00\">repeat</text>\n</g>\n<!-- stop -->\n<g id=\"node6\" class=\"node\">\n<title>stop</title>\n<ellipse fill=\"none\" stroke=\"black\" cx=\"556.49\" cy=\"-18\" rx=\"27\" ry=\"18\"/>\n<text text-anchor=\"middle\" x=\"556.49\" y=\"-14.3\" font-family=\"Times,serif\" font-size=\"14.00\">stop</text>\n</g>\n<!-- step&#45;&gt;stop -->\n<g id=\"edge5\" class=\"edge\">\n<title>step&#45;&gt;stop</title>\n<path fill=\"none\" stroke=\"black\" d=\"M492.71,-18C501.04,-18 510.4,-18 519.3,-18\"/>\n<polygon fill=\"black\" stroke=\"black\" points=\"519.45,-21.5 529.45,-18 519.45,-14.5 519.45,-21.5\"/>\n</g>\n</g>\n</svg>\n",
            "text/plain": [
              "<graphviz.sources.Source at 0x79974a7e1210>"
            ]
          },
          "metadata": {},
          "execution_count": 111
        }
      ],
      "source": [
        "gv('''\n",
        "init->predict->loss->gradient->step->stop\n",
        "step->predict[label=repeat]\n",
        "''')"
      ]
    },
    {
      "cell_type": "markdown",
      "metadata": {
        "id": "xd6taoPF2i4W"
      },
      "source": [
        "## The MNIST Loss Function"
      ]
    },
    {
      "cell_type": "code",
      "execution_count": 112,
      "metadata": {
        "scrolled": true,
        "id": "SgN1mN_a2i4X"
      },
      "outputs": [],
      "source": [
        "#train_x = torch.cat([stacked_threes, stacked_sevens]).view(-1, 28*28)"
      ]
    },
    {
      "cell_type": "code",
      "execution_count": 113,
      "metadata": {
        "id": "AyfOraYy2i4X"
      },
      "outputs": [],
      "source": [
        "#3].shape"
      ]
    },
    {
      "cell_type": "code",
      "execution_count": 114,
      "metadata": {
        "id": "NH0G6NQU2i4Y"
      },
      "outputs": [],
      "source": [
        "train_x = torch.cat(stacked_images).view(-1, 28*28)"
      ]
    },
    {
      "cell_type": "code",
      "execution_count": 115,
      "metadata": {
        "colab": {
          "base_uri": "https://localhost:8080/"
        },
        "id": "KsPNliJl2i4Y",
        "outputId": "48a90412-e8db-4f7c-fa72-9c4d7852f192"
      },
      "outputs": [
        {
          "output_type": "execute_result",
          "data": {
            "text/plain": [
              "torch.Size([60000, 784])"
            ]
          },
          "metadata": {},
          "execution_count": 115
        }
      ],
      "source": [
        "train_x.shape"
      ]
    },
    {
      "cell_type": "code",
      "execution_count": 116,
      "metadata": {
        "id": "HnEfcgSe2i4Z"
      },
      "outputs": [],
      "source": [
        "#train_y = tensor([1]*len(threes) + [0]*len(sevens)).unsqueeze(1)\n",
        "#train_x.shape,train_y.shape"
      ]
    },
    {
      "cell_type": "code",
      "execution_count": 117,
      "metadata": {
        "colab": {
          "base_uri": "https://localhost:8080/"
        },
        "id": "gM3NaFY32i4Z",
        "outputId": "7729ea91-68a8-4532-a6d3-87f8ca75fe84"
      },
      "outputs": [
        {
          "output_type": "execute_result",
          "data": {
            "text/plain": [
              "(torch.Size([60000, 784]), torch.Size([60000, 1]))"
            ]
          },
          "metadata": {},
          "execution_count": 117
        }
      ],
      "source": [
        "train_y = torch.cat([tensor([idx]*len(num)) for idx, num in enumerate(stacked_images)]).unsqueeze(1)\n",
        "train_x.shape, train_y.shape"
      ]
    },
    {
      "cell_type": "code",
      "execution_count": 118,
      "metadata": {
        "colab": {
          "base_uri": "https://localhost:8080/"
        },
        "id": "keLFVFgW2i4a",
        "outputId": "9ddb4fbe-7f97-4fb7-c063-540d9c2a28b9"
      },
      "outputs": [
        {
          "output_type": "execute_result",
          "data": {
            "text/plain": [
              "(torch.Size([784]), tensor([9]))"
            ]
          },
          "metadata": {},
          "execution_count": 118
        }
      ],
      "source": [
        "dset = list(zip(train_x,train_y))\n",
        "x,y = dset[59000]\n",
        "x.shape,y"
      ]
    },
    {
      "cell_type": "code",
      "execution_count": 119,
      "metadata": {
        "colab": {
          "base_uri": "https://localhost:8080/",
          "height": 172
        },
        "id": "NngDCmKu2i4b",
        "outputId": "bb47ecc8-4537-402e-e867-5ce66dcc1f16"
      },
      "outputs": [
        {
          "output_type": "execute_result",
          "data": {
            "text/plain": [
              "<Axes: title={'center': 'tensor([9])'}>"
            ]
          },
          "metadata": {},
          "execution_count": 119
        },
        {
          "output_type": "display_data",
          "data": {
            "text/plain": [
              "<Figure size 100x100 with 1 Axes>"
            ],
            "image/png": "[encoded data removed]"
          },
          "metadata": {}
        }
      ],
      "source": [
        "show_image(x.view(28, 28), title=y)"
      ]
    },
    {
      "cell_type": "code",
      "execution_count": 120,
      "metadata": {
        "colab": {
          "base_uri": "https://localhost:8080/"
        },
        "id": "6HKylCxJ2i4c",
        "outputId": "9b11745b-8f18-4c04-a129-37bea728e65e"
      },
      "outputs": [
        {
          "output_type": "execute_result",
          "data": {
            "text/plain": [
              "(torch.Size([784]), tensor([0]))"
            ]
          },
          "metadata": {},
          "execution_count": 120
        }
      ],
      "source": [
        "valid_x = torch.cat(stacked_valid_images).view(-1, 28*28)\n",
        "valid_y = torch.cat([tensor([idx]*len(num)) for idx, num in enumerate(stacked_valid_images)]).unsqueeze(1)\n",
        "valid_dset = list(zip(valid_x,valid_y))\n",
        "valid_x, valid_y = dset[0]\n",
        "valid_x.shape, valid_y"
      ]
    },
    {
      "cell_type": "code",
      "execution_count": 121,
      "metadata": {
        "id": "-0kNGauy2i4d"
      },
      "outputs": [],
      "source": [
        "#valid_x = torch.cat([valid_3_tens, valid_7_tens]).view(-1, 28*28)\n",
        "#valid_y = tensor([1]*len(valid_3_tens) + [0]*len(valid_7_tens)).unsqueeze(1)\n",
        "#valid_dset = list(zip(valid_x,valid_y))"
      ]
    },
    {
      "cell_type": "code",
      "execution_count": 122,
      "metadata": {
        "id": "H46qKY_y2i4e"
      },
      "outputs": [],
      "source": [
        "def init_params(size, std=1.0): return (torch.randn(size)*std).requires_grad_()"
      ]
    },
    {
      "cell_type": "code",
      "execution_count": 123,
      "metadata": {
        "colab": {
          "base_uri": "https://localhost:8080/"
        },
        "id": "uRxIfsSA2i4e",
        "outputId": "bd3713c8-8e85-4dd4-f79b-1ba181d45364"
      },
      "outputs": [
        {
          "output_type": "execute_result",
          "data": {
            "text/plain": [
              "torch.Size([784, 10])"
            ]
          },
          "metadata": {},
          "execution_count": 123
        }
      ],
      "source": [
        "weights = init_params((28*28, 10),1)\n",
        "weights.shape"
      ]
    },
    {
      "cell_type": "code",
      "execution_count": 124,
      "metadata": {
        "colab": {
          "base_uri": "https://localhost:8080/"
        },
        "id": "5jRArOQH2i4f",
        "outputId": "f9d35220-8da8-4a7e-abcf-417a6e3ed016"
      },
      "outputs": [
        {
          "output_type": "execute_result",
          "data": {
            "text/plain": [
              "tensor([ 0.6863, -0.1078,  0.3850, -0.9214,  2.6685,  0.5705,  1.7508,  1.2681, -1.4726, -2.5230], requires_grad=True)"
            ]
          },
          "metadata": {},
          "execution_count": 124
        }
      ],
      "source": [
        "bias = init_params(10, 1)\n",
        "bias"
      ]
    },
    {
      "cell_type": "code",
      "execution_count": 125,
      "metadata": {
        "colab": {
          "base_uri": "https://localhost:8080/"
        },
        "id": "4E1vDrOS2i4g",
        "outputId": "2832e8fc-42df-48f5-c7d1-fe9294b89797"
      },
      "outputs": [
        {
          "output_type": "execute_result",
          "data": {
            "text/plain": [
              "tensor([-1.8335, -2.6277, -2.1349, -3.4412,  0.1486, -1.9494, -0.7691, -1.2518, -3.9925, -5.0429], grad_fn=<AddBackward0>)"
            ]
          },
          "metadata": {},
          "execution_count": 125
        }
      ],
      "source": [
        "(train_x[0]*weights.T).sum() + bias"
      ]
    },
    {
      "cell_type": "code",
      "execution_count": 126,
      "metadata": {
        "colab": {
          "base_uri": "https://localhost:8080/"
        },
        "id": "uXFfoH9D2i4h",
        "outputId": "19ec639f-14a7-4abf-b605-e85c6c2d6fda"
      },
      "outputs": [
        {
          "output_type": "execute_result",
          "data": {
            "text/plain": [
              "torch.Size([60000, 10])"
            ]
          },
          "metadata": {},
          "execution_count": 126
        }
      ],
      "source": [
        "def linear1(xb): return xb@weights + bias\n",
        "preds = linear1(train_x)\n",
        "preds.shape"
      ]
    },
    {
      "cell_type": "code",
      "execution_count": 127,
      "metadata": {
        "colab": {
          "base_uri": "https://localhost:8080/"
        },
        "id": "HS6vwpoF2i4j",
        "outputId": "9f35df58-d51c-49f6-ab98-6ef1fb56a94a"
      },
      "outputs": [
        {
          "output_type": "execute_result",
          "data": {
            "text/plain": [
              "torch.Size([20, 10])"
            ]
          },
          "metadata": {},
          "execution_count": 127
        }
      ],
      "source": [
        "preds[0:20,:].shape"
      ]
    },
    {
      "cell_type": "code",
      "execution_count": 128,
      "metadata": {
        "colab": {
          "base_uri": "https://localhost:8080/"
        },
        "id": "NQKYnApf2i4k",
        "outputId": "6f794234-dfb9-4039-fee2-789150180273"
      },
      "outputs": [
        {
          "output_type": "execute_result",
          "data": {
            "text/plain": [
              "torch.Size([20])"
            ]
          },
          "metadata": {},
          "execution_count": 128
        }
      ],
      "source": [
        "preds[0:20].argmax(1).shape"
      ]
    },
    {
      "cell_type": "code",
      "execution_count": 129,
      "metadata": {
        "id": "zjV7zUhS2i4l"
      },
      "outputs": [],
      "source": [
        "#train_y[40000]"
      ]
    },
    {
      "cell_type": "code",
      "source": [
        "preds.argmax(1).unsqueeze(1).shape"
      ],
      "metadata": {
        "colab": {
          "base_uri": "https://localhost:8080/"
        },
        "id": "Abw3l27DpOA4",
        "outputId": "3f67474b-55c2-4951-9fe3-674d825ac799"
      },
      "execution_count": 130,
      "outputs": [
        {
          "output_type": "execute_result",
          "data": {
            "text/plain": [
              "torch.Size([60000, 1])"
            ]
          },
          "metadata": {},
          "execution_count": 130
        }
      ]
    },
    {
      "cell_type": "code",
      "source": [
        "train_y.shape"
      ],
      "metadata": {
        "colab": {
          "base_uri": "https://localhost:8080/"
        },
        "id": "gaW6eC-fpVOY",
        "outputId": "871f5762-47e9-454f-a64b-a2dfde6cef58"
      },
      "execution_count": 131,
      "outputs": [
        {
          "output_type": "execute_result",
          "data": {
            "text/plain": [
              "torch.Size([60000, 1])"
            ]
          },
          "metadata": {},
          "execution_count": 131
        }
      ]
    },
    {
      "cell_type": "code",
      "execution_count": 132,
      "metadata": {
        "colab": {
          "base_uri": "https://localhost:8080/"
        },
        "id": "To33jk0r2i4m",
        "outputId": "05c8d2c7-ec4b-49ad-db87-64bbc5bd4654"
      },
      "outputs": [
        {
          "output_type": "execute_result",
          "data": {
            "text/plain": [
              "tensor([[False, False, False, False, False, False, False, False, False, False]])"
            ]
          },
          "metadata": {},
          "execution_count": 132
        }
      ],
      "source": [
        "test = preds[0:10].argmax(1).float() == train_y[0:10].T\n",
        "test"
      ]
    },
    {
      "cell_type": "code",
      "execution_count": 133,
      "metadata": {
        "colab": {
          "base_uri": "https://localhost:8080/"
        },
        "id": "6pbpd9jW2i4m",
        "outputId": "8f37252d-6d4e-4dff-9751-2d2d76d48614"
      },
      "outputs": [
        {
          "output_type": "execute_result",
          "data": {
            "text/plain": [
              "torch.Size([60000, 1])"
            ]
          },
          "metadata": {},
          "execution_count": 133
        }
      ],
      "source": [
        "corrects = preds.argmax(1).unsqueeze(1).float() == train_y\n",
        "corrects.shape"
      ]
    },
    {
      "cell_type": "code",
      "execution_count": 134,
      "metadata": {
        "id": "lVuqamBN2i4n"
      },
      "outputs": [],
      "source": [
        "#preds[0].float() == train_y[0]"
      ]
    },
    {
      "cell_type": "code",
      "execution_count": 135,
      "metadata": {
        "id": "AnmpKq6J2i4n"
      },
      "outputs": [],
      "source": [
        "#corrects = (preds[0:30000].float() == train_y[0:30000,0])\n",
        "#corrects"
      ]
    },
    {
      "cell_type": "code",
      "execution_count": 136,
      "metadata": {
        "colab": {
          "base_uri": "https://localhost:8080/"
        },
        "id": "1b8-WDhT2i4o",
        "outputId": "fd116f1a-6ac8-4697-e323-5b4002e7cb77"
      },
      "outputs": [
        {
          "output_type": "execute_result",
          "data": {
            "text/plain": [
              "0.09803333133459091"
            ]
          },
          "metadata": {},
          "execution_count": 136
        }
      ],
      "source": [
        "corrects.float().mean().item()"
      ]
    },
    {
      "cell_type": "code",
      "execution_count": 137,
      "metadata": {
        "id": "wheGtJPs2i4p"
      },
      "outputs": [],
      "source": [
        "with torch.no_grad(): weights[0] *= 1.0001"
      ]
    },
    {
      "cell_type": "code",
      "execution_count": 138,
      "metadata": {
        "colab": {
          "base_uri": "https://localhost:8080/"
        },
        "id": "UJKbwu8T2i4p",
        "outputId": "67e3c8cd-d736-49d5-def7-4e0d0e3524ee"
      },
      "outputs": [
        {
          "output_type": "execute_result",
          "data": {
            "text/plain": [
              "0.09803333133459091"
            ]
          },
          "metadata": {},
          "execution_count": 138
        }
      ],
      "source": [
        "corrects = preds.argmax(1).unsqueeze(1).float() == train_y\n",
        "corrects.shape\n",
        "corrects.float().mean().item()"
      ]
    },
    {
      "cell_type": "code",
      "execution_count": 139,
      "metadata": {
        "id": "ghJbOusg2i4q"
      },
      "outputs": [],
      "source": [
        "#preds = linear1(train_x)\n",
        "#((preds>0.0).float() == train_y).float().mean().item()"
      ]
    },
    {
      "cell_type": "code",
      "execution_count": 140,
      "metadata": {
        "id": "sTOCLjMs2i4q"
      },
      "outputs": [],
      "source": [
        "trgts  = tensor([1,0,1])\n",
        "prds   = tensor([0.9, 0.4, 0.2])"
      ]
    },
    {
      "cell_type": "code",
      "source": [
        "preds[0], train_y[0]"
      ],
      "metadata": {
        "colab": {
          "base_uri": "https://localhost:8080/"
        },
        "id": "Z_btBK1euCGf",
        "outputId": "bc62c0f4-d2bf-498e-8e86-17122de5dff2"
      },
      "execution_count": 141,
      "outputs": [
        {
          "output_type": "execute_result",
          "data": {
            "text/plain": [
              "(tensor([-8.3942, -2.4164, -8.0167,  6.5187, -6.5703, 14.9420, -6.9692, 15.7885, -6.4757,  1.3778], grad_fn=<SelectBackward0>),\n",
              " tensor([0]))"
            ]
          },
          "metadata": {},
          "execution_count": 141
        }
      ]
    },
    {
      "cell_type": "code",
      "source": [
        "train_y_one_hot = torch.zeros(len(train_y), 10)\n",
        "train_y_one_hot.shape\n",
        "for i, labels in enumerate(train_y):\n",
        "    train_y_one_hot[i, labels] = 1\n",
        "train_y_one_hot[:4]"
      ],
      "metadata": {
        "colab": {
          "base_uri": "https://localhost:8080/"
        },
        "id": "o-5E_shxucp9",
        "outputId": "04bc0511-c133-42a4-def0-07dbfc33d36f"
      },
      "execution_count": 149,
      "outputs": [
        {
          "output_type": "execute_result",
          "data": {
            "text/plain": [
              "tensor([[1., 0., 0., 0., 0., 0., 0., 0., 0., 0.],\n",
              "        [1., 0., 0., 0., 0., 0., 0., 0., 0., 0.],\n",
              "        [1., 0., 0., 0., 0., 0., 0., 0., 0., 0.],\n",
              "        [1., 0., 0., 0., 0., 0., 0., 0., 0., 0.]])"
            ]
          },
          "metadata": {},
          "execution_count": 149
        }
      ]
    },
    {
      "cell_type": "code",
      "execution_count": null,
      "metadata": {
        "id": "va1F3edu2i4r"
      },
      "outputs": [],
      "source": [
        "#def mnist_loss(predictions, targets):\n",
        "#    return torch.where(targets==1, 1-predictions, predictions).mean()"
      ]
    },
    {
      "cell_type": "code",
      "execution_count": 150,
      "metadata": {
        "id": "g9mgfDMs2i4r",
        "outputId": "74dabdae-3426-486e-db76-92f9b2479fda",
        "colab": {
          "base_uri": "https://localhost:8080/"
        }
      },
      "outputs": [
        {
          "output_type": "execute_result",
          "data": {
            "text/plain": [
              "tensor([0.1000, 0.4000, 0.8000])"
            ]
          },
          "metadata": {},
          "execution_count": 150
        }
      ],
      "source": [
        "#torch.where(trgts==1, 1-prds, prds)"
      ]
    },
    {
      "cell_type": "code",
      "execution_count": null,
      "metadata": {
        "id": "g9vdEAXX2i4s",
        "outputId": "8e8569a5-e2d4-41b2-c4dd-7d9c58c901d1"
      },
      "outputs": [
        {
          "data": {
            "text/plain": [
              "tensor(0.4333)"
            ]
          },
          "execution_count": 297,
          "metadata": {},
          "output_type": "execute_result"
        }
      ],
      "source": [
        "#mnist_loss(prds,trgts)"
      ]
    },
    {
      "cell_type": "code",
      "execution_count": null,
      "metadata": {
        "id": "TRfc5iXX2i4t",
        "outputId": "b22ce92f-2c66-4d62-deb9-71f97d7a2046"
      },
      "outputs": [
        {
          "data": {
            "text/plain": [
              "tensor(0.2333)"
            ]
          },
          "execution_count": 298,
          "metadata": {},
          "output_type": "execute_result"
        }
      ],
      "source": [
        "#mnist_loss(tensor([0.9, 0.4, 0.8]),trgts)"
      ]
    },
    {
      "cell_type": "markdown",
      "metadata": {
        "id": "_S0gtx-W2i4t"
      },
      "source": [
        "### Sigmoid"
      ]
    },
    {
      "cell_type": "code",
      "execution_count": 151,
      "metadata": {
        "id": "HY4OmiUr2i4u"
      },
      "outputs": [],
      "source": [
        "def sigmoid(x): return 1/(1+torch.exp(-x))"
      ]
    },
    {
      "cell_type": "code",
      "execution_count": null,
      "metadata": {
        "id": "5xTv9pEN2i4u"
      },
      "outputs": [],
      "source": [
        "plot_function(torch.sigmoid, title='Sigmoid', min=-4, max=4)"
      ]
    },
    {
      "cell_type": "code",
      "execution_count": null,
      "metadata": {
        "id": "xF1fi9VN2i4v"
      },
      "outputs": [],
      "source": [
        "#def mnist_loss(predictions, targets):\n",
        "  #  predictions = predictions.sigmoid()\n",
        "   # return torch.where(targets==1, 1-predictions, predictions).mean()"
      ]
    },
    {
      "cell_type": "code",
      "source": [
        "\n",
        "preds = preds.sigmoid()\n",
        "test_loss = (train_y_one_hot - preds).abs()\n",
        "test_loss.mean(0)"
      ],
      "metadata": {
        "colab": {
          "base_uri": "https://localhost:8080/"
        },
        "id": "GpMfC9vu4Fh1",
        "outputId": "4b05cfde-547a-4db0-d302-7a2d38bedf44"
      },
      "execution_count": 157,
      "outputs": [
        {
          "output_type": "execute_result",
          "data": {
            "text/plain": [
              "tensor([0.6275, 0.6232, 0.6272, 0.6264, 0.6280, 0.6304, 0.6274, 0.6258, 0.6280, 0.6274], grad_fn=<MeanBackward1>)"
            ]
          },
          "metadata": {},
          "execution_count": 157
        }
      ]
    },
    {
      "cell_type": "code",
      "source": [
        "def mnist_loss(predictions, targets):\n",
        "    predictions = predictions.sigmoid()\n",
        "    return torch.where(targets==1, 1-predictions, predictions).mean()"
      ],
      "metadata": {
        "id": "3sNLyX0h3rUE"
      },
      "execution_count": null,
      "outputs": []
    },
    {
      "cell_type": "markdown",
      "metadata": {
        "id": "dJwLvOGW2i4v"
      },
      "source": [
        "### SGD and Mini-Batches"
      ]
    },
    {
      "cell_type": "code",
      "execution_count": null,
      "metadata": {
        "id": "omubZ90z2i4w"
      },
      "outputs": [],
      "source": [
        "coll = range(15)\n",
        "dl = DataLoader(coll, batch_size=5, shuffle=True)\n",
        "list(dl)"
      ]
    },
    {
      "cell_type": "code",
      "execution_count": null,
      "metadata": {
        "id": "wpauYuIA2i4x"
      },
      "outputs": [],
      "source": [
        "ds = L(enumerate(string.ascii_lowercase))\n",
        "ds"
      ]
    },
    {
      "cell_type": "code",
      "execution_count": null,
      "metadata": {
        "id": "D2My9T_b2i4x"
      },
      "outputs": [],
      "source": [
        "dl = DataLoader(ds, batch_size=6, shuffle=True)\n",
        "list(dl)"
      ]
    },
    {
      "cell_type": "markdown",
      "metadata": {
        "id": "we864RS02i4y"
      },
      "source": [
        "## Putting It All Together"
      ]
    },
    {
      "cell_type": "code",
      "execution_count": null,
      "metadata": {
        "id": "2DtTHmHB2i4z"
      },
      "outputs": [],
      "source": [
        "weights = init_params((28*28,1))\n",
        "bias = init_params(1)"
      ]
    },
    {
      "cell_type": "code",
      "execution_count": null,
      "metadata": {
        "id": "TDfcYQlC2i40"
      },
      "outputs": [],
      "source": [
        "dl = DataLoader(dset, batch_size=256)\n",
        "xb,yb = first(dl)\n",
        "xb.shape,yb.shape"
      ]
    },
    {
      "cell_type": "code",
      "execution_count": null,
      "metadata": {
        "id": "-wKIDe4V2i41"
      },
      "outputs": [],
      "source": [
        "valid_dl = DataLoader(valid_dset, batch_size=256)"
      ]
    },
    {
      "cell_type": "code",
      "execution_count": null,
      "metadata": {
        "id": "FBKBbm062i42"
      },
      "outputs": [],
      "source": [
        "batch = train_x[:4]\n",
        "batch.shape"
      ]
    },
    {
      "cell_type": "code",
      "execution_count": null,
      "metadata": {
        "id": "EpmMF-a12i42"
      },
      "outputs": [],
      "source": [
        "preds = linear1(batch)\n",
        "preds"
      ]
    },
    {
      "cell_type": "code",
      "execution_count": null,
      "metadata": {
        "id": "O5THKBlJ2i43"
      },
      "outputs": [],
      "source": [
        "loss = mnist_loss(preds, train_y[:4])\n",
        "loss"
      ]
    },
    {
      "cell_type": "code",
      "execution_count": null,
      "metadata": {
        "id": "hCKnh6aj2i43"
      },
      "outputs": [],
      "source": [
        "loss.backward()\n",
        "weights.grad.shape,weights.grad.mean(),bias.grad"
      ]
    },
    {
      "cell_type": "code",
      "execution_count": null,
      "metadata": {
        "id": "k9-gqBTX2i44"
      },
      "outputs": [],
      "source": [
        "def calc_grad(xb, yb, model):\n",
        "    preds = model(xb)\n",
        "    loss = mnist_loss(preds, yb)\n",
        "    loss.backward()"
      ]
    },
    {
      "cell_type": "code",
      "execution_count": null,
      "metadata": {
        "id": "_MQj9iRD2i44"
      },
      "outputs": [],
      "source": [
        "calc_grad(batch, train_y[:4], linear1)\n",
        "weights.grad.mean(),bias.grad"
      ]
    },
    {
      "cell_type": "code",
      "execution_count": null,
      "metadata": {
        "id": "-xT1fCX_2i44"
      },
      "outputs": [],
      "source": [
        "calc_grad(batch, train_y[:4], linear1)\n",
        "weights.grad.mean(),bias.grad"
      ]
    },
    {
      "cell_type": "code",
      "execution_count": null,
      "metadata": {
        "id": "yfn6EvFS2i45"
      },
      "outputs": [],
      "source": [
        "weights.grad.zero_()\n",
        "bias.grad.zero_();"
      ]
    },
    {
      "cell_type": "code",
      "execution_count": null,
      "metadata": {
        "id": "MmGcA4v_2i46"
      },
      "outputs": [],
      "source": [
        "def train_epoch(model, lr, params):\n",
        "    for xb,yb in dl:\n",
        "        calc_grad(xb, yb, model)\n",
        "        for p in params:\n",
        "            p.data -= p.grad*lr\n",
        "            p.grad.zero_()"
      ]
    },
    {
      "cell_type": "code",
      "execution_count": null,
      "metadata": {
        "id": "DfiXyBP_2i46"
      },
      "outputs": [],
      "source": [
        "(preds>0.0).float() == train_y[:4]"
      ]
    },
    {
      "cell_type": "code",
      "execution_count": null,
      "metadata": {
        "id": "EoW5Hxtz2i47"
      },
      "outputs": [],
      "source": [
        "def batch_accuracy(xb, yb):\n",
        "    preds = xb.sigmoid()\n",
        "    correct = (preds>0.5) == yb\n",
        "    return correct.float().mean()"
      ]
    },
    {
      "cell_type": "code",
      "execution_count": null,
      "metadata": {
        "id": "PCfkgMn92i47"
      },
      "outputs": [],
      "source": [
        "batch_accuracy(linear1(batch), train_y[:4])"
      ]
    },
    {
      "cell_type": "code",
      "execution_count": null,
      "metadata": {
        "id": "_fJTCyBJ2i48"
      },
      "outputs": [],
      "source": [
        "def validate_epoch(model):\n",
        "    accs = [batch_accuracy(model(xb), yb) for xb,yb in valid_dl]\n",
        "    return round(torch.stack(accs).mean().item(), 4)"
      ]
    },
    {
      "cell_type": "code",
      "execution_count": null,
      "metadata": {
        "id": "ufTDZSp92i48"
      },
      "outputs": [],
      "source": [
        "validate_epoch(linear1)"
      ]
    },
    {
      "cell_type": "code",
      "execution_count": null,
      "metadata": {
        "id": "mlcnZghV2i49"
      },
      "outputs": [],
      "source": [
        "lr = 1.\n",
        "params = weights,bias\n",
        "train_epoch(linear1, lr, params)\n",
        "validate_epoch(linear1)"
      ]
    },
    {
      "cell_type": "code",
      "execution_count": null,
      "metadata": {
        "id": "NzqiNI8A2i49"
      },
      "outputs": [],
      "source": [
        "for i in range(20):\n",
        "    train_epoch(linear1, lr, params)\n",
        "    print(validate_epoch(linear1), end=' ')"
      ]
    },
    {
      "cell_type": "markdown",
      "metadata": {
        "id": "PWhY-VsI2i4-"
      },
      "source": [
        "### Creating an Optimizer"
      ]
    },
    {
      "cell_type": "code",
      "execution_count": null,
      "metadata": {
        "id": "Y0lrjAl72i4-"
      },
      "outputs": [],
      "source": [
        "linear_model = nn.Linear(28*28,1)"
      ]
    },
    {
      "cell_type": "code",
      "execution_count": null,
      "metadata": {
        "id": "xVQkKkn22i4_"
      },
      "outputs": [],
      "source": [
        "w,b = linear_model.parameters()\n",
        "w.shape,b.shape"
      ]
    },
    {
      "cell_type": "code",
      "execution_count": null,
      "metadata": {
        "id": "T7N4YFQy2i5A"
      },
      "outputs": [],
      "source": [
        "class BasicOptim:\n",
        "    def __init__(self,params,lr): self.params,self.lr = list(params),lr\n",
        "\n",
        "    def step(self, *args, **kwargs):\n",
        "        for p in self.params: p.data -= p.grad.data * self.lr\n",
        "\n",
        "    def zero_grad(self, *args, **kwargs):\n",
        "        for p in self.params: p.grad = None"
      ]
    },
    {
      "cell_type": "code",
      "execution_count": null,
      "metadata": {
        "id": "klP_C8FT2i5B"
      },
      "outputs": [],
      "source": [
        "opt = BasicOptim(linear_model.parameters(), lr)"
      ]
    },
    {
      "cell_type": "code",
      "execution_count": null,
      "metadata": {
        "id": "6HKowvs32i5D"
      },
      "outputs": [],
      "source": [
        "def train_epoch(model):\n",
        "    for xb,yb in dl:\n",
        "        calc_grad(xb, yb, model)\n",
        "        opt.step()\n",
        "        opt.zero_grad()"
      ]
    },
    {
      "cell_type": "code",
      "execution_count": null,
      "metadata": {
        "id": "rhfqSWdp2i5E"
      },
      "outputs": [],
      "source": [
        "validate_epoch(linear_model)"
      ]
    },
    {
      "cell_type": "code",
      "execution_count": null,
      "metadata": {
        "id": "T8WkzFNU2i5F"
      },
      "outputs": [],
      "source": [
        "def train_model(model, epochs):\n",
        "    for i in range(epochs):\n",
        "        train_epoch(model)\n",
        "        print(validate_epoch(model), end=' ')"
      ]
    },
    {
      "cell_type": "code",
      "execution_count": null,
      "metadata": {
        "id": "SLkmb3RA2i5G"
      },
      "outputs": [],
      "source": [
        "train_model(linear_model, 20)"
      ]
    },
    {
      "cell_type": "code",
      "execution_count": null,
      "metadata": {
        "id": "kFAXYi4T2i5G"
      },
      "outputs": [],
      "source": [
        "linear_model = nn.Linear(28*28,1)\n",
        "opt = SGD(linear_model.parameters(), lr)\n",
        "train_model(linear_model, 20)"
      ]
    },
    {
      "cell_type": "code",
      "execution_count": null,
      "metadata": {
        "id": "i7mN-2r-2i5H"
      },
      "outputs": [],
      "source": [
        "dls = DataLoaders(dl, valid_dl)"
      ]
    },
    {
      "cell_type": "code",
      "execution_count": null,
      "metadata": {
        "id": "mPNOL5Z72i5I"
      },
      "outputs": [],
      "source": [
        "learn = Learner(dls, nn.Linear(28*28,1), opt_func=SGD,\n",
        "                loss_func=mnist_loss, metrics=batch_accuracy)"
      ]
    },
    {
      "cell_type": "code",
      "execution_count": null,
      "metadata": {
        "id": "4s5HPDQt2i5J"
      },
      "outputs": [],
      "source": [
        "learn.fit(10, lr=lr)"
      ]
    },
    {
      "cell_type": "markdown",
      "metadata": {
        "id": "cEvOmPhL2i5J"
      },
      "source": [
        "## Adding a Nonlinearity"
      ]
    },
    {
      "cell_type": "code",
      "execution_count": null,
      "metadata": {
        "id": "48aN6BqB2i5K"
      },
      "outputs": [],
      "source": [
        "def simple_net(xb):\n",
        "    res = xb@w1 + b1\n",
        "    res = res.max(tensor(0.0))\n",
        "    res = res@w2 + b2\n",
        "    return res"
      ]
    },
    {
      "cell_type": "code",
      "execution_count": null,
      "metadata": {
        "id": "-RQuera12i5K"
      },
      "outputs": [],
      "source": [
        "w1 = init_params((28*28,30))\n",
        "b1 = init_params(30)\n",
        "w2 = init_params((30,1))\n",
        "b2 = init_params(1)"
      ]
    },
    {
      "cell_type": "code",
      "execution_count": null,
      "metadata": {
        "id": "G8JgTgyr2i5L"
      },
      "outputs": [],
      "source": [
        "plot_function(F.relu)"
      ]
    },
    {
      "cell_type": "code",
      "execution_count": null,
      "metadata": {
        "id": "wigjYHqa2i5L"
      },
      "outputs": [],
      "source": [
        "simple_net = nn.Sequential(\n",
        "    nn.Linear(28*28,30),\n",
        "    nn.ReLU(),\n",
        "    nn.Linear(30,1)\n",
        ")"
      ]
    },
    {
      "cell_type": "code",
      "execution_count": null,
      "metadata": {
        "id": "2MlsLefI2i5M"
      },
      "outputs": [],
      "source": [
        "learn = Learner(dls, simple_net, opt_func=SGD,\n",
        "                loss_func=mnist_loss, metrics=batch_accuracy)"
      ]
    },
    {
      "cell_type": "code",
      "execution_count": null,
      "metadata": {
        "id": "I9Azr1nL2i5M"
      },
      "outputs": [],
      "source": [
        "learn.fit(40, 0.1)"
      ]
    },
    {
      "cell_type": "code",
      "execution_count": null,
      "metadata": {
        "id": "G_z7cR9z2i5N"
      },
      "outputs": [],
      "source": [
        "plt.plot(L(learn.recorder.values).itemgot(2));"
      ]
    },
    {
      "cell_type": "code",
      "execution_count": null,
      "metadata": {
        "id": "8Wbg6E4q2i5N"
      },
      "outputs": [],
      "source": [
        "learn.recorder.values[-1][2]"
      ]
    },
    {
      "cell_type": "markdown",
      "metadata": {
        "id": "XvQY06Hn2i5O"
      },
      "source": [
        "### Going Deeper"
      ]
    },
    {
      "cell_type": "code",
      "execution_count": null,
      "metadata": {
        "id": "uKZY7Z612i5O"
      },
      "outputs": [],
      "source": [
        "dls = ImageDataLoaders.from_folder(path)\n",
        "learn = vision_learner(dls, resnet18, pretrained=False,\n",
        "                    loss_func=F.cross_entropy, metrics=accuracy)\n",
        "learn.fit_one_cycle(1, 0.1)"
      ]
    },
    {
      "cell_type": "markdown",
      "metadata": {
        "id": "_QK5KAi62i5P"
      },
      "source": [
        "## Jargon Recap"
      ]
    },
    {
      "cell_type": "markdown",
      "metadata": {
        "id": "cIvdtYl02i5P"
      },
      "source": [
        "## Questionnaire"
      ]
    },
    {
      "cell_type": "markdown",
      "metadata": {
        "id": "LYhiFzxp2i5Q"
      },
      "source": [
        "1. How is a grayscale image represented on a computer? How about a color image?\n",
        "1. How are the files and folders in the `MNIST_SAMPLE` dataset structured? Why?\n",
        "1. Explain how the \"pixel similarity\" approach to classifying digits works.\n",
        "1. What is a list comprehension? Create one now that selects odd numbers from a list and doubles them.\n",
        "1. What is a \"rank-3 tensor\"?\n",
        "1. What is the difference between tensor rank and shape? How do you get the rank from the shape?\n",
        "1. What are RMSE and L1 norm?\n",
        "1. How can you apply a calculation on thousands of numbers at once, many thousands of times faster than a Python loop?\n",
        "1. Create a 3×3 tensor or array containing the numbers from 1 to 9. Double it. Select the bottom-right four numbers.\n",
        "1. What is broadcasting?\n",
        "1. Are metrics generally calculated using the training set, or the validation set? Why?\n",
        "1. What is SGD?\n",
        "1. Why does SGD use mini-batches?\n",
        "1. What are the seven steps in SGD for machine learning?\n",
        "1. How do we initialize the weights in a model?\n",
        "1. What is \"loss\"?\n",
        "1. Why can't we always use a high learning rate?\n",
        "1. What is a \"gradient\"?\n",
        "1. Do you need to know how to calculate gradients yourself?\n",
        "1. Why can't we use accuracy as a loss function?\n",
        "1. Draw the sigmoid function. What is special about its shape?\n",
        "1. What is the difference between a loss function and a metric?\n",
        "1. What is the function to calculate new weights using a learning rate?\n",
        "1. What does the `DataLoader` class do?\n",
        "1. Write pseudocode showing the basic steps taken in each epoch for SGD.\n",
        "1. Create a function that, if passed two arguments `[1,2,3,4]` and `'abcd'`, returns `[(1, 'a'), (2, 'b'), (3, 'c'), (4, 'd')]`. What is special about that output data structure?\n",
        "1. What does `view` do in PyTorch?\n",
        "1. What are the \"bias\" parameters in a neural network? Why do we need them?\n",
        "1. What does the `@` operator do in Python?\n",
        "1. What does the `backward` method do?\n",
        "1. Why do we have to zero the gradients?\n",
        "1. What information do we have to pass to `Learner`?\n",
        "1. Show Python or pseudocode for the basic steps of a training loop.\n",
        "1. What is \"ReLU\"? Draw a plot of it for values from `-2` to `+2`.\n",
        "1. What is an \"activation function\"?\n",
        "1. What's the difference between `F.relu` and `nn.ReLU`?\n",
        "1. The universal approximation theorem shows that any function can be approximated as closely as needed using just one nonlinearity. So why do we normally use more?"
      ]
    },
    {
      "cell_type": "markdown",
      "metadata": {
        "id": "uBCGZUt62i5R"
      },
      "source": [
        "### Further Research"
      ]
    },
    {
      "cell_type": "markdown",
      "metadata": {
        "id": "irYLuOsP2i5S"
      },
      "source": [
        "1. Create your own implementation of `Learner` from scratch, based on the training loop shown in this chapter.\n",
        "1. Complete all the steps in this chapter using the full MNIST datasets (that is, for all digits, not just 3s and 7s). This is a significant project and will take you quite a bit of time to complete! You'll need to do some of your own research to figure out how to overcome some obstacles you'll meet on the way."
      ]
    },
    {
      "cell_type": "code",
      "execution_count": null,
      "metadata": {
        "id": "2ffox-XW2i5S"
      },
      "outputs": [],
      "source": []
    }
  ],
  "metadata": {
    "jupytext": {
      "split_at_heading": true
    },
    "kernelspec": {
      "display_name": "Python 3 (ipykernel)",
      "language": "python",
      "name": "python3"
    },
    "language_info": {
      "codemirror_mode": {
        "name": "ipython",
        "version": 3
      },
      "file_extension": ".py",
      "mimetype": "text/x-python",
      "name": "python",
      "nbconvert_exporter": "python",
      "pygments_lexer": "ipython3",
      "version": "3.10.12"
    },
    "colab": {
      "provenance": [],
      "include_colab_link": true
    }
  },
  "nbformat": 4,
  "nbformat_minor": 0
}